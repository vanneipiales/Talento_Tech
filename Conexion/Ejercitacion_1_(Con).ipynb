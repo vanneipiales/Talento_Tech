{
  "nbformat": 4,
  "nbformat_minor": 0,
  "metadata": {
    "colab": {
      "provenance": []
    },
    "kernelspec": {
      "name": "python3",
      "display_name": "Python 3"
    },
    "language_info": {
      "name": "python"
    }
  },
  "cells": [
    {
      "cell_type": "markdown",
      "source": [
        "## **CLASES, OBJETOS Y HERENCIA**\n",
        "\n",
        "---\n",
        "\n"
      ],
      "metadata": {
        "id": "-ulh9CAp-Cae"
      }
    },
    {
      "cell_type": "markdown",
      "source": [
        "# **Ejercitación**\n",
        " Vamos a crear una nueva clase dentro de las tarjetas, que sería la tarjeta\n",
        " débito, tendrá un número y su saldo, y un método pagar que permite hacer\n",
        " pagos siempre y cuando el saldo sea suficiente, y verificamos si es\n",
        " instancia de la clase\n",
        " Tarjeta o Tarjeta_Debito"
      ],
      "metadata": {
        "id": "92lphpLy97vF"
      }
    },
    {
      "cell_type": "code",
      "execution_count": 1,
      "metadata": {
        "colab": {
          "base_uri": "https://localhost:8080/"
        },
        "id": "o44nu_dz93Xz",
        "outputId": "47048c16-cc80-4b4e-a577-ec40f53186b0"
      },
      "outputs": [
        {
          "output_type": "stream",
          "name": "stdout",
          "text": [
            "=== Sistema de Tarjetas ===\n",
            "La tarjeta 1234-5678-9012-3456 es una Tarjeta genérica\n",
            "La tarjeta 9876-5432-1098-7654 es una Tarjeta de Débito\n",
            "\n",
            "Tarjeta Débito - Número: 9876-5432-1098-7654, Saldo: $1000.00\n",
            "Depósito exitoso. Nuevo saldo: $1500.00\n",
            "Pago exitoso de $200.00. Saldo restante: $1300.00\n",
            "Saldo insuficiente. Saldo actual: $1300.00, se requiere: $2000.00\n",
            "Tarjeta Débito - Número: 9876-5432-1098-7654, Saldo: $1300.00\n"
          ]
        }
      ],
      "source": [
        "class Tarjeta:\n",
        "    \"\"\"Clase base para todas las tarjetas\"\"\"\n",
        "    def __init__(self, numero):\n",
        "        self.numero = numero\n",
        "\n",
        "    def __str__(self):\n",
        "        return f\"Tarjeta genérica - Número: {self.numero}\"\n",
        "\n",
        "class Tarjeta_Debito(Tarjeta):\n",
        "    \"\"\"Clase para tarjetas de débito con saldo\"\"\"\n",
        "    def __init__(self, numero, saldo_inicial=0):\n",
        "        super().__init__(numero)\n",
        "        self.saldo = saldo_inicial\n",
        "\n",
        "    def pagar(self, monto):\n",
        "        \"\"\"Realiza un pago si hay saldo suficiente\"\"\"\n",
        "        if self.saldo >= monto:\n",
        "            self.saldo -= monto\n",
        "            print(f\"Pago exitoso de ${monto:.2f}. Saldo restante: ${self.saldo:.2f}\")\n",
        "            return True\n",
        "        else:\n",
        "            print(f\"Saldo insuficiente. Saldo actual: ${self.saldo:.2f}, se requiere: ${monto:.2f}\")\n",
        "            return False\n",
        "\n",
        "    def depositar(self, monto):\n",
        "        \"\"\"Añade saldo a la tarjeta\"\"\"\n",
        "        if monto > 0:\n",
        "            self.saldo += monto\n",
        "            print(f\"Depósito exitoso. Nuevo saldo: ${self.saldo:.2f}\")\n",
        "        else:\n",
        "            print(\"El monto debe ser positivo\")\n",
        "\n",
        "    def __str__(self):\n",
        "        return f\"Tarjeta Débito - Número: {self.numero}, Saldo: ${self.saldo:.2f}\"\n",
        "\n",
        "# Función para verificar instancias\n",
        "def verificar_tipo(tarjeta):\n",
        "    if isinstance(tarjeta, Tarjeta_Debito):\n",
        "        print(f\"La tarjeta {tarjeta.numero} es una Tarjeta de Débito\")\n",
        "    elif isinstance(tarjeta, Tarjeta):\n",
        "        print(f\"La tarjeta {tarjeta.numero} es una Tarjeta genérica\")\n",
        "    else:\n",
        "        print(\"Objeto no reconocido como tarjeta\")\n",
        "\n",
        "# Demostración de uso\n",
        "if __name__ == \"__main__\":\n",
        "    print(\"=== Sistema de Tarjetas ===\")\n",
        "\n",
        "    # Crear tarjetas\n",
        "    tarjeta_generica = Tarjeta(\"1234-5678-9012-3456\")\n",
        "    tarjeta_debito = Tarjeta_Debito(\"9876-5432-1098-7654\", 1000)\n",
        "\n",
        "    # Verificar tipos\n",
        "    verificar_tipo(tarjeta_generica)\n",
        "    verificar_tipo(tarjeta_debito)\n",
        "    print()\n",
        "\n",
        "    # Operaciones con tarjeta débito\n",
        "    print(tarjeta_debito)\n",
        "    tarjeta_debito.depositar(500)\n",
        "    tarjeta_debito.pagar(200)\n",
        "    tarjeta_debito.pagar(2000)\n",
        "    print(tarjeta_debito)"
      ]
    }
  ]
}