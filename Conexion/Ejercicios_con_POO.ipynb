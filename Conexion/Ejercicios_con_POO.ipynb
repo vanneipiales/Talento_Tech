{
  "nbformat": 4,
  "nbformat_minor": 0,
  "metadata": {
    "colab": {
      "provenance": []
    },
    "kernelspec": {
      "name": "python3",
      "display_name": "Python 3"
    },
    "language_info": {
      "name": "python"
    }
  },
  "cells": [
    {
      "cell_type": "code",
      "source": [
        "class MiClase:\n",
        "  #Atributos\n",
        "  atributo1 = \"Valor1\"\n",
        "  atributo2 = 0\n",
        "\n",
        "  # Metodos\n",
        "  def metodo1(self):\n",
        "    print(\"¡Hola desde el método 1!\")\n",
        "\n",
        "  def metodo2(self, parametro):\n",
        "    self.atributo2 = parametro\n",
        "    print(f\"El tributo2 se actualizó a: {self.atributo2}\")\n",
        "\n",
        "#Creación de objetos a partir de la clase\n",
        "objeto1 = MiClase()\n",
        "objeto2 = MiClase()\n",
        "\n",
        "#Acceso de atributos y llamada a métodos\n",
        "print(objeto1.atributo1) #Salida: Valor1\n",
        "objeto1.metodo1()        #Salida: ¡Hola desde el método 1!\n",
        "\n",
        "objeto2.metodo2(42)     #Salida: El atributo 2 se actualizó a: 42\n",
        "print(objeto2.atributo2) #Salida: 42"
      ],
      "metadata": {
        "colab": {
          "base_uri": "https://localhost:8080/"
        },
        "id": "rGdMqYFsolZ8",
        "outputId": "de56bd31-99c2-417e-98f1-2b207f6630a7"
      },
      "execution_count": null,
      "outputs": [
        {
          "output_type": "stream",
          "name": "stdout",
          "text": [
            "Valor1\n",
            "Hola desde el método 1\n",
            "El tributo2 se actualizó a: 42\n",
            "42\n"
          ]
        }
      ]
    },
    {
      "cell_type": "code",
      "source": [
        "class Miclase:\n",
        "    #atributos\n",
        "    atributo1 = \"Valor1\"\n",
        "    atributo2 = 0\n",
        "\n",
        "    #metodos\n",
        "    def metodo1(self):\n",
        "        print(\"¡Hola desde el metodo1!\")\n",
        "\n",
        "    def metodo2(self, parametro):\n",
        "        self.atributo2 = parametro\n",
        "        print(f\"El atrivuto es2 se actualizo a:  {self.atributo2}\")\n",
        "\n",
        "#creacion de un objeto a partir de la clase\n",
        "objeto1= Miclase()\n",
        "objeto2= Miclase()\n",
        "\n",
        "#acceso a atributos  llamdas a metodos\n",
        "print(objeto1.atributo1)   #salida: valor1\n",
        "objeto1.metodo1()          #salida: ¡Hola desde el metodo1!\n",
        "\n",
        "objeto2.metodo2(42)         #salida: El atrivuto es2 se actualizo a:  42\n",
        "print(objeto2.atributo2)    #salida: 42\n",
        "# Crear más objetos\n",
        "objeto3 = Miclase()\n",
        "objeto4 = Miclase()\n",
        "\n",
        "# Definir métodos adicionales en la clase\n",
        "def metodo3(self):\n",
        "    print(f\"Este es el metodo3. atributo1: {self.atributo1}, atributo2: {self.atributo2}\")\n",
        "\n",
        "def metodo4(self, nuevo_valor):\n",
        "    self.atributo1 = nuevo_valor\n",
        "    print(f\"atributo1 actualizado a: {self.atributo1}\")\n",
        "\n",
        "# Agregar los nuevos métodos a la clase\n",
        "setattr(Miclase, \"metodo3\", metodo3)\n",
        "setattr(Miclase, \"metodo4\", metodo4)\n",
        "\n",
        "# Usar los nuevos métodos con los nuevos objetos\n",
        "objeto3.metodo3()\n",
        "objeto4.metodo4(\"NuevoValor\")\n",
        "objeto4.metodo3()"
      ],
      "metadata": {
        "colab": {
          "base_uri": "https://localhost:8080/"
        },
        "id": "_deb2ssysj4D",
        "outputId": "c2a88d7f-8590-4f49-a6a2-4d5f87d59784"
      },
      "execution_count": null,
      "outputs": [
        {
          "output_type": "stream",
          "name": "stdout",
          "text": [
            "Valor1\n",
            "¡Hola desde el metodo1!\n",
            "El atrivuto es2 se actualizo a:  42\n",
            "42\n",
            "Este es el metodo3. atributo1: Valor1, atributo2: 0\n",
            "atributo1 actualizado a: NuevoValor\n",
            "Este es el metodo3. atributo1: NuevoValor, atributo2: 0\n"
          ]
        }
      ]
    },
    {
      "cell_type": "code",
      "source": [
        "class Coche:\n",
        "    def __init__(self, marca, modelo, velocidad):\n",
        "        self.marca = marca\n",
        "        self.modelo = modelo\n",
        "        self.velocidad = velocidad\n",
        "\n",
        "    def acelerar(self, incremento):\n",
        "        self.velocidad += incremento\n",
        "        print(f\"El coche {self.marca} {self.modelo} ha acelerado a {self.velocidad} km/h\")\n",
        "#creacion de un ubjeto de tipo de coche\n",
        "mi_coche = Coche(\"Toyota\", \"Corolla\", 50)\n",
        "\n",
        "#llamda a metodo acelerar\n",
        "mi_coche.acelerar(20)  # Aumenta la velocidad en 20 km/h"
      ],
      "metadata": {
        "colab": {
          "base_uri": "https://localhost:8080/"
        },
        "id": "ZDRuxugcx0vY",
        "outputId": "93038076-4a4a-4869-9e11-c626217b6517"
      },
      "execution_count": null,
      "outputs": [
        {
          "output_type": "stream",
          "name": "stdout",
          "text": [
            "El coche Toyota Corolla ha acelerado a 70 km/h\n"
          ]
        }
      ]
    },
    {
      "cell_type": "code",
      "source": [
        "#Herencia\n",
        "class Animal:\n",
        "    def __init__(self, nombre):\n",
        "        self.nombre = nombre\n",
        "\n",
        "    def hacer_sonido(self):\n",
        "        pass\n",
        "\n",
        "class Perro(Animal):\n",
        "    def hacer_sonido(self):\n",
        "        return \"Guau\""
      ],
      "metadata": {
        "id": "1wVXlXnL3APo"
      },
      "execution_count": null,
      "outputs": []
    }
  ]
}