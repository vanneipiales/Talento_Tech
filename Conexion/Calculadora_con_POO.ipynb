{
  "nbformat": 4,
  "nbformat_minor": 0,
  "metadata": {
    "colab": {
      "provenance": []
    },
    "kernelspec": {
      "name": "python3",
      "display_name": "Python 3"
    },
    "language_info": {
      "name": "python"
    }
  },
  "cells": [
    {
      "cell_type": "code",
      "source": [
        "class Calculadora:\n",
        "    def __init__(self):\n",
        "        self.numero_uno = 0\n",
        "        self.numero_dos = 0\n",
        "\n",
        "    def mostrar_menu(self):\n",
        "        print(\"\\nMENÚ DE CALCULADORA\")\n",
        "        print(\"1. Suma\")\n",
        "        print(\"2. Resta\")\n",
        "        print(\"3. Multiplicación\")\n",
        "        print(\"4. División\")\n",
        "        print(\"5. Salir\")\n",
        "\n",
        "    def ingresar_numeros(self):\n",
        "        self.numero_uno = float(input(\"Ingrese el primer número: \"))\n",
        "        self.numero_dos = float(input(\"Ingrese el segundo número: \"))\n",
        "\n",
        "    def sumar(self):\n",
        "        return self.numero_uno + self.numero_dos\n",
        "\n",
        "    def restar(self):\n",
        "        return self.numero_uno - self.numero_dos\n",
        "\n",
        "    def multiplicar(self):\n",
        "        return self.numero_uno * self.numero_dos\n",
        "\n",
        "    def dividir(self):\n",
        "        if self.numero_dos == 0:\n",
        "            raise ValueError(\"No se puede dividir por cero\")\n",
        "        return self.numero_uno / self.numero_dos\n",
        "\n",
        "    def operar(self):\n",
        "        while True:\n",
        "            self.mostrar_menu()\n",
        "            opcion = input(\"Ingrese la opción deseada del menú: \")\n",
        "\n",
        "            if opcion == \"5\":\n",
        "                print(\"Saliendo de la calculadora...\")\n",
        "                break\n",
        "\n",
        "            if opcion not in [\"1\", \"2\", \"3\", \"4\"]:\n",
        "                print(\"Opción no válida. Intente nuevamente.\")\n",
        "                continue\n",
        "\n",
        "            self.ingresar_numeros()\n",
        "\n",
        "            try:\n",
        "                if opcion == \"1\":\n",
        "                    print(f\"\\nSumamos los dos valores ingresados:\")\n",
        "                    print(f\"La suma es: {self.sumar()}\")\n",
        "                elif opcion == \"2\":\n",
        "                    print(f\"\\nRestamos los dos valores ingresados:\")\n",
        "                    print(f\"La resta es: {self.restar()}\")\n",
        "                elif opcion == \"3\":\n",
        "                    print(f\"\\nMultiplicamos los dos valores ingresados:\")\n",
        "                    print(f\"El producto es: {self.multiplicar()}\")\n",
        "                elif opcion == \"4\":\n",
        "                    print(f\"\\nDividimos los dos valores ingresados:\")\n",
        "                    print(f\"El cociente es: {self.dividir()}\")\n",
        "            except ValueError as e:\n",
        "                print(f\"\\nError: {e}\")\n",
        "            except:\n",
        "                print(\"\\nOcurrió un error inesperado\")\n",
        "\n",
        "\n",
        "# Ejecutar la calculadora\n",
        "if __name__ == \"__main__\":\n",
        "    calculadora = Calculadora()\n",
        "    calculadora.operar()"
      ],
      "metadata": {
        "id": "p2ymQQVTM36X",
        "colab": {
          "base_uri": "https://localhost:8080/"
        },
        "outputId": "5f448cbd-d747-4f85-fa9a-43b418cf519c"
      },
      "execution_count": null,
      "outputs": [
        {
          "output_type": "stream",
          "name": "stdout",
          "text": [
            "\n",
            "MENÚ DE CALCULADORA\n",
            "1. Suma\n",
            "2. Resta\n",
            "3. Multiplicación\n",
            "4. División\n",
            "5. Salir\n",
            "Ingrese la opción deseada del menú: 4\n",
            "Ingrese el primer número: 15\n",
            "Ingrese el segundo número: 0\n",
            "\n",
            "Dividimos los dos valores ingresados:\n",
            "\n",
            "Error: No se puede dividir por cero\n",
            "\n",
            "MENÚ DE CALCULADORA\n",
            "1. Suma\n",
            "2. Resta\n",
            "3. Multiplicación\n",
            "4. División\n",
            "5. Salir\n",
            "Ingrese la opción deseada del menú: 5\n",
            "Saliendo de la calculadora...\n"
          ]
        }
      ]
    }
  ]
}