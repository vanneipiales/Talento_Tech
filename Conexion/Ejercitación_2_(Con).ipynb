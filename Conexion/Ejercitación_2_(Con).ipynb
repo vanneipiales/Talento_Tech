{
  "nbformat": 4,
  "nbformat_minor": 0,
  "metadata": {
    "colab": {
      "provenance": []
    },
    "kernelspec": {
      "name": "python3",
      "display_name": "Python 3"
    },
    "language_info": {
      "name": "python"
    }
  },
  "cells": [
    {
      "cell_type": "markdown",
      "source": [
        "# **EJERCITACIONES**\n",
        "\n",
        "---\n",
        "\n"
      ],
      "metadata": {
        "id": "EdrgQzTK-hH5"
      }
    },
    {
      "cell_type": "markdown",
      "source": [
        "1. Escribir una clase en python llamada círculo que contenga un radio, con un método que devuelva el área y otro que devuelva el perímetro del círculo."
      ],
      "metadata": {
        "id": "Z_buOeqS-r2e"
      }
    },
    {
      "cell_type": "code",
      "execution_count": 1,
      "metadata": {
        "colab": {
          "base_uri": "https://localhost:8080/"
        },
        "id": "zl1ptHG_-gUJ",
        "outputId": "89996866-1f40-46a5-ad4e-7149e8f09256"
      },
      "outputs": [
        {
          "output_type": "stream",
          "name": "stdout",
          "text": [
            "Círculo de radio 5: Área = 78.54, Perímetro = 31.42\n"
          ]
        }
      ],
      "source": [
        "import math\n",
        "\n",
        "class Circulo:\n",
        "    def __init__(self, radio):\n",
        "        self.radio = radio\n",
        "\n",
        "    def area(self):\n",
        "        return math.pi * self.radio ** 2\n",
        "\n",
        "    def perimetro(self):\n",
        "        return 2 * math.pi * self.radio\n",
        "\n",
        "# Ejemplo de uso\n",
        "mi_circulo = Circulo(5)\n",
        "print(f\"Círculo de radio 5: Área = {mi_circulo.area():.2f}, Perímetro = {mi_circulo.perimetro():.2f}\")"
      ]
    },
    {
      "cell_type": "markdown",
      "source": [
        "2. Escribir una clase en python llamada rectángulo que contenga una base y una altura, y que contenga un método que devuelva el área del rectángulo."
      ],
      "metadata": {
        "id": "-HtKRg5Q-zc9"
      }
    },
    {
      "cell_type": "code",
      "source": [
        "class Rectangulo:\n",
        "    def __init__(self, base, altura):\n",
        "        self.base = base\n",
        "        self.altura = altura\n",
        "\n",
        "    def area(self):\n",
        "        return self.base * self.altura\n",
        "\n",
        "# Ejemplo de uso\n",
        "mi_rectangulo = Rectangulo(4, 6)\n",
        "print(f\"Rectángulo 4x6: Área = {mi_rectangulo.area()}\")"
      ],
      "metadata": {
        "colab": {
          "base_uri": "https://localhost:8080/"
        },
        "id": "99qwsYqZ-3bV",
        "outputId": "d3e0150a-c94e-42a3-cc92-33a5c864f6d6"
      },
      "execution_count": 2,
      "outputs": [
        {
          "output_type": "stream",
          "name": "stdout",
          "text": [
            "Rectángulo 4x6: Área = 24\n"
          ]
        }
      ]
    },
    {
      "cell_type": "markdown",
      "source": [
        "3. Escribir una clase en python con 2 métodos: get_string y print_string. get_string acepta una cadena ingresada por el usuario y print_string imprime la cadena en mayúsculas."
      ],
      "metadata": {
        "id": "DTteJL_q-6M9"
      }
    },
    {
      "cell_type": "code",
      "source": [
        "class ManipuladorCadena:\n",
        "    def __init__(self):\n",
        "        self.cadena = \"\"\n",
        "\n",
        "    def get_string(self):\n",
        "        self.cadena = input(\"Ingrese una cadena: \")\n",
        "\n",
        "    def print_string(self):\n",
        "        print(self.cadena.upper())\n",
        "\n",
        "# Ejemplo de uso\n",
        "manipulador = ManipuladorCadena()\n",
        "manipulador.get_string()\n",
        "manipulador.print_string()"
      ],
      "metadata": {
        "colab": {
          "base_uri": "https://localhost:8080/"
        },
        "id": "ZVhXHRak_CTd",
        "outputId": "be48c648-6179-4fdc-9f30-b7ff93b9aa88"
      },
      "execution_count": 3,
      "outputs": [
        {
          "output_type": "stream",
          "name": "stdout",
          "text": [
            "Ingrese una cadena: Hola\n",
            "HOLA\n"
          ]
        }
      ]
    },
    {
      "cell_type": "markdown",
      "source": [
        "4. Escribir una clase en python que convierta un número entero a número romano"
      ],
      "metadata": {
        "id": "X83CkGtm_LiV"
      }
    },
    {
      "cell_type": "code",
      "source": [
        "class EnteroARomano:\n",
        "    def __init__(self):\n",
        "        self.valores = [\n",
        "            (1000, 'M'), (900, 'CM'), (500, 'D'), (400, 'CD'),\n",
        "            (100, 'C'), (90, 'XC'), (50, 'L'), (40, 'XL'),\n",
        "            (10, 'X'), (9, 'IX'), (5, 'V'), (4, 'IV'), (1, 'I')\n",
        "        ]\n",
        "\n",
        "    def convertir(self, num):\n",
        "        if not 0 < num < 4000:\n",
        "            raise ValueError(\"El número debe estar entre 1 y 3999\")\n",
        "\n",
        "        resultado = []\n",
        "        for valor, simbolo in self.valores:\n",
        "            while num >= valor:\n",
        "                resultado.append(simbolo)\n",
        "                num -= valor\n",
        "        return ''.join(resultado)\n",
        "\n",
        "# Ejemplo de uso\n",
        "convertidor = EnteroARomano()\n",
        "print(f\"2023 en romanos: {convertidor.convertir(2023)}\")"
      ],
      "metadata": {
        "colab": {
          "base_uri": "https://localhost:8080/"
        },
        "id": "8I3ehBTH_QTH",
        "outputId": "cd639303-3df4-4615-b5fd-7ba81ddb4842"
      },
      "execution_count": 4,
      "outputs": [
        {
          "output_type": "stream",
          "name": "stdout",
          "text": [
            "2023 en romanos: MMXXIII\n"
          ]
        }
      ]
    },
    {
      "cell_type": "markdown",
      "source": [
        "5. Escribir una clase en python que convierta un número romano en\n",
        " un número entero"
      ],
      "metadata": {
        "id": "vbSXu6Rv_Ofo"
      }
    },
    {
      "cell_type": "code",
      "source": [
        "class RomanoAEntero:\n",
        "    def __init__(self):\n",
        "        self.valores = {\n",
        "            'M': 1000, 'D': 500, 'C': 100, 'L': 50,\n",
        "            'X': 10, 'V': 5, 'I': 1\n",
        "        }\n",
        "\n",
        "    def convertir(self, romano):\n",
        "        total = 0\n",
        "        previo = 0\n",
        "\n",
        "        for c in reversed(romano.upper()):\n",
        "            valor = self.valores.get(c, 0)\n",
        "            if valor < previo:\n",
        "                total -= valor\n",
        "            else:\n",
        "                total += valor\n",
        "            previo = valor\n",
        "\n",
        "        return total\n",
        "\n",
        "# Ejemplo de uso\n",
        "convertidor = RomanoAEntero()\n",
        "print(f\"MMXXIII en decimal: {convertidor.convertir('MMXXIII')}\")"
      ],
      "metadata": {
        "colab": {
          "base_uri": "https://localhost:8080/"
        },
        "id": "A2FmRMq3_Va2",
        "outputId": "17078433-1ebf-4253-9a05-b77bbca8b2f2"
      },
      "execution_count": 5,
      "outputs": [
        {
          "output_type": "stream",
          "name": "stdout",
          "text": [
            "MMXXIII en decimal: 2023\n"
          ]
        }
      ]
    }
  ]
}