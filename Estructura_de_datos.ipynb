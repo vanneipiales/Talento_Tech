{
  "nbformat": 4,
  "nbformat_minor": 0,
  "metadata": {
    "colab": {
      "provenance": [],
      "authorship_tag": "ABX9TyP5CtKH4o1+iRVt0zR2Gd3A",
      "include_colab_link": true
    },
    "kernelspec": {
      "name": "python3",
      "display_name": "Python 3"
    },
    "language_info": {
      "name": "python"
    }
  },
  "cells": [
    {
      "cell_type": "markdown",
      "metadata": {
        "id": "view-in-github",
        "colab_type": "text"
      },
      "source": [
        "<a href=\"https://colab.research.google.com/github/vanneipiales/Talento_Tech/blob/main/Estructura_de_datos.ipynb\" target=\"_parent\"><img src=\"https://colab.research.google.com/assets/colab-badge.svg\" alt=\"Open In Colab\"/></a>"
      ]
    },
    {
      "cell_type": "code",
      "execution_count": null,
      "metadata": {
        "id": "YBGprVWeTBX7",
        "colab": {
          "base_uri": "https://localhost:8080/"
        },
        "outputId": "64833452-ac6a-4c22-d59a-a7e7732cb599"
      },
      "outputs": [
        {
          "output_type": "stream",
          "name": "stdout",
          "text": [
            "['lapiz', 'cuaderno', 'tijeras', 'borrador', 'regla', 'colores', 'marcadores']\n",
            "('lapiz HB', 'lapiz 2B', 'limpiatipos', 'sacapuntas', 'cartulina opalina', 'compaz', 'rapidografos')\n",
            "{'mora', 'cereza', 'frambuesa', 'grosella', 'fresa', 'arandano'}\n",
            "{'Autor': 'Gabriel Garcia Marquez', 'Año': '1967', 'Genero': 'Realismo Magico'}\n"
          ]
        }
      ],
      "source": [
        "#Lista de utiles escolares\n",
        "utiles_escolares = [\"lapiz\", \"cuaderno\", \"tijeras\", \"borrador\", \"regla\", \"colores\", \"marcadores\"]\n",
        "print(utiles_escolares)\n",
        "\n",
        "#Tupla de herramientas para hacer un dibujo\n",
        "herramientas_dibujo = (\"lapiz HB\", \"lapiz 2B\", \"limpiatipos\", \"sacapuntas\", \"cartulina opalina\", \"compaz\", \"rapidografos\")\n",
        "print(herramientas_dibujo)\n",
        "\n",
        "#Conjunto de frutos rojos\n",
        "conjunto_frutosrojos = {\"arandano\", \"fresa\", \"cereza\", \"frambuesa\", \"grosella\", \"mora\"}\n",
        "print(conjunto_frutosrojos)\n",
        "\n",
        "#Diccionario de libros\n",
        "\n",
        "diccionario_libro_CienAñosdeSoledad = {\n",
        "    \"Autor\": \"Gabriel Garcia Marquez\", \"Año\": \"1967\", \"Genero\": \"Realismo Magico\"\n",
        "    }\n",
        "print(diccionario_libro_CienAñosdeSoledad)"
      ]
    }
  ]
}