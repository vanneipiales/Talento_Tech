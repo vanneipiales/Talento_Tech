{
  "cells": [
    {
      "cell_type": "code",
      "execution_count": null,
      "metadata": {
        "colab": {
          "base_uri": "https://localhost:8080/"
        },
        "id": "gAqBdRZXwlVq",
        "outputId": "492536a8-d999-4a14-925c-73917b55a2d2"
      },
      "outputs": [
        {
          "output_type": "stream",
          "name": "stdout",
          "text": [
            "MENÚ\n",
            "1. Suma\n",
            "2. Resta\n",
            "3. Multiplicación\n",
            "4. División\n",
            "5. Salir\n",
            "Seleccione una opción: 3\n",
            "Ingrese el primer número: 45\n",
            "Ingrese el segundo número: 6\n",
            "Resultado: 45.0 * 6.0 = 270.0\n",
            "MENÚ\n",
            "1. Suma\n",
            "2. Resta\n",
            "3. Multiplicación\n",
            "4. División\n",
            "5. Salir\n",
            "Seleccione una opción: 5\n",
            "¡Gracias por usar la calculadora!, Adios.\n"
          ]
        }
      ],
      "source": [
        "def calculadora ():\n",
        "  while True:\n",
        "    print(\"MENÚ\")\n",
        "    print(\"1. Suma\")\n",
        "    print(\"2. Resta\")\n",
        "    print(\"3. Multiplicación\")\n",
        "    print(\"4. División\")\n",
        "    print(\"5. Salir\")\n",
        "\n",
        "    opcion = input(\"Seleccione una opción: \")\n",
        "\n",
        "    if opcion == '5':\n",
        "      print(\"¡Gracias por usar la calculadora!, Adios.\")\n",
        "      break\n",
        "\n",
        "    if opcion in ['1', '2', '3', '4']:\n",
        "            num_uno = float(input(\"Ingrese el primer número: \"))\n",
        "            num_dos = float(input(\"Ingrese el segundo número: \"))\n",
        "\n",
        "            match opcion:\n",
        "              case '1':\n",
        "                  print (f\"Resultado: {num_uno} + {num_dos} = {num_uno + num_dos}\")\n",
        "              case '2':\n",
        "                  print (f\"Resultado: {num_uno} - {num_dos} = {num_uno - num_dos}\")\n",
        "              case '3':\n",
        "                  print (f\"Resultado: {num_uno} * {num_dos} = {num_uno * num_dos}\")\n",
        "              case '4':\n",
        "                if num_dos!=0:\n",
        "                  print (f\"Resultado: {num_uno} / {num_dos} = {num_uno / num_dos}\")\n",
        "                else:\n",
        "                  print(\"No se puede dividir entre 0\")\n",
        "              case _:\n",
        "                  print(\"Opción no válida\")\n",
        "calculadora()"
      ]
    }
  ],
  "metadata": {
    "colab": {
      "provenance": []
    },
    "kernelspec": {
      "display_name": "Python 3",
      "name": "python3"
    },
    "language_info": {
      "name": "python"
    }
  },
  "nbformat": 4,
  "nbformat_minor": 0
}