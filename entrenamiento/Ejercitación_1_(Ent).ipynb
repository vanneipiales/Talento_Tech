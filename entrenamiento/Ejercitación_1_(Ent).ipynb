{
  "nbformat": 4,
  "nbformat_minor": 0,
  "metadata": {
    "colab": {
      "provenance": []
    },
    "kernelspec": {
      "name": "python3",
      "display_name": "Python 3"
    },
    "language_info": {
      "name": "python"
    }
  },
  "cells": [
    {
      "cell_type": "markdown",
      "source": [
        "# **ALGORITMOS Y FLUJOS**\n",
        "\n",
        "---\n",
        "\n"
      ],
      "metadata": {
        "id": "1EBi_E5mCMSh"
      }
    },
    {
      "cell_type": "markdown",
      "source": [
        "# ¿Saben qué es un diagrama de flujo?"
      ],
      "metadata": {
        "id": "n-5PumoWBy-R"
      }
    },
    {
      "cell_type": "markdown",
      "source": [
        "Un diagrama de flujo es una representación gráfica de un proceso, algoritmo o secuencia de pasos, utilizando símbolos estándar conectados con flechas que indican el orden de las operaciones. Es una herramienta fundamental en programación, análisis de procesos y diseño de sistemas."
      ],
      "metadata": {
        "id": "_4AbShu9B1R-"
      }
    },
    {
      "cell_type": "markdown",
      "source": [
        "# ¿Qué elementos o símbolos hacen parte de un diagrama de flujo?\n"
      ],
      "metadata": {
        "id": "uaHG3gQoCVCm"
      }
    },
    {
      "cell_type": "markdown",
      "source": [
        "Elementos que se utilizan para hacer un diagrama de flujo:\n",
        "\n",
        "\n",
        "- Óvalo: Inicio o fin del proceso.\n",
        "- Rectángulo: Paso o acción a realizar.\n",
        "- Rombo: Decisión (sí/no, verdadero/falso).\n",
        "- Flechas: Dirección del flujo.\n",
        "- Círculo o conector: Enlace con otra parte del diagrama.\n"
      ],
      "metadata": {
        "id": "MXBseN0bCYan"
      }
    },
    {
      "cell_type": "markdown",
      "source": [
        "# **Ejemplo de algortimo:**"
      ],
      "metadata": {
        "id": "zUudlZ_CC0q-"
      }
    },
    {
      "cell_type": "markdown",
      "source": [
        "1. INICIO  \n",
        "2. Calentar una sartén a fuego medio  \n",
        "3. Agregar una cucharada de aceite o mantequilla  \n",
        "4. Esperar a que el aceite esté caliente (30 segundos)  \n",
        "5. Romper el huevo en un plato pequeño  \n",
        "6. Verter el huevo en la sartén  \n",
        "7. Esperar 2 minutos hasta que la clara esté blanca  \n",
        "8. Si se desea huevo \"volteado\":  \n",
        "   8.1. Usar una espátula para voltearlo  \n",
        "   8.2. Cocinar 1 minuto más  \n",
        "9. Si no, dejar cocinar hasta que la yema esté a gusto  \n",
        "10. Sacar el huevo y colocarlo en un plato  \n",
        "11. Añadir sal y pimienta al gusto  \n",
        "12. FIN  "
      ],
      "metadata": {
        "id": "Nn9q3FiyDASH"
      }
    }
  ]
}