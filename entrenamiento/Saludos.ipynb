{
  "nbformat": 4,
  "nbformat_minor": 0,
  "metadata": {
    "colab": {
      "provenance": []
    },
    "kernelspec": {
      "name": "python3",
      "display_name": "Python 3"
    },
    "language_info": {
      "name": "python"
    }
  },
  "cells": [
    {
      "cell_type": "code",
      "execution_count": null,
      "metadata": {
        "colab": {
          "base_uri": "https://localhost:8080/"
        },
        "id": "kH-tE5PxsIqi",
        "outputId": "40ac76d4-28ae-4679-bbc4-917ab43706fa"
      },
      "outputs": [
        {
          "output_type": "stream",
          "name": "stdout",
          "text": [
            "Ve a dormir es tarde.\n",
            "None\n"
          ]
        }
      ],
      "source": [
        "from datetime import datetime\n",
        "\n",
        "def saludar_segun_la_hora ():\n",
        "  hora_actual = datetime.now().hour\n",
        "\n",
        "  if 6 <= hora_actual <= 12:\n",
        "    print(\"¡Buenos días!\")\n",
        "  elif 12 < hora_actual < 19:\n",
        "    print(\"¡Buenas tardes!\")\n",
        "  elif 19 <= hora_actual < 24:\n",
        "    print(\"¡Buenas noches!\")\n",
        "  else:\n",
        "        print(\"Ve a dormir es tarde.\")\n",
        "print (saludar_segun_la_hora())\n"
      ]
    },
    {
      "cell_type": "code",
      "source": [
        "def saludar():\n",
        "    hora = int(input(\"Ingresa la hora (0 a 24): \"))\n",
        "\n",
        "    if 6 <= hora < 12:\n",
        "        print(\"¡Buenos días!\")\n",
        "\n",
        "    elif 12 <= hora < 19:\n",
        "        print(\"¡Buenas tardes!\")\n",
        "\n",
        "    elif 19 <= hora < 24:\n",
        "        print(\"¡Buenas noches!\")\n",
        "\n",
        "    elif 0 <= hora < 6:\n",
        "        print(\"¡Hola! Buenos días, aún es de madrugada.\")\n",
        "    else:\n",
        "        print(\"Hora no válida\")\n",
        "\n",
        "saludar()"
      ],
      "metadata": {
        "colab": {
          "base_uri": "https://localhost:8080/"
        },
        "id": "FGq9ZEJLz-Qn",
        "outputId": "c5107fcf-4bc7-4e75-a8e9-493a522f63ab"
      },
      "execution_count": null,
      "outputs": [
        {
          "output_type": "stream",
          "name": "stdout",
          "text": [
            "Ingresa la hora (0 a 24): 0\n",
            "¡Hola! Buenos días, aún es de madrugada.\n"
          ]
        }
      ]
    }
  ]
}