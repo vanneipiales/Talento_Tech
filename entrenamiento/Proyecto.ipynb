{
  "nbformat": 4,
  "nbformat_minor": 0,
  "metadata": {
    "colab": {
      "provenance": []
    },
    "kernelspec": {
      "name": "python3",
      "display_name": "Python 3"
    },
    "language_info": {
      "name": "python"
    }
  },
  "cells": [
    {
      "cell_type": "code",
      "execution_count": null,
      "metadata": {
        "id": "uSz0rc42PLKo"
      },
      "outputs": [],
      "source": []
    },
    {
      "cell_type": "code",
      "source": [
        "import pandas as pd\n",
        "\n",
        "# Inventario de productos como lista de diccionarios\n",
        "inventario = [\n",
        "    {\"id\": 1, \"nombre\": \"Manzana\", \"precio\": 1000},\n",
        "    {\"id\": 2, \"nombre\": \"Pan\", \"precio\": 500},\n",
        "    {\"id\": 3, \"nombre\": \"Leche\", \"precio\": 3000}\n",
        "]\n",
        "\n",
        "# Carrito de compras vacío (lista)\n",
        "carrito = []\n",
        "\n",
        "# Mostrar inventario como tabla con pandas\n",
        "df_inventario = pd.DataFrame(inventario)\n",
        "print(\"Bienvenido a la tienda\\nInventario:\")\n",
        "print(df_inventario)\n",
        "df_inventario\n",
        "\n",
        "# Función para buscar un producto por ID\n",
        "def buscar_producto(id_buscar):\n",
        "    for producto in inventario:\n",
        "        if producto[\"id\"] == id_buscar:\n",
        "            return producto\n",
        "    return None\n",
        "\n",
        "# Ciclo principal\n",
        "opcion = \"\"\n",
        "while opcion != \"4\":\n",
        "    print(\"\\n--- Menú ---\")\n",
        "    print(\"1. Ver inventario\")\n",
        "    print(\"2. Agregar producto al carrito\")\n",
        "    print(\"3. Ver carrito\")\n",
        "    print(\"4. Salir\")\n",
        "\n",
        "    opcion = input(\"Selecciona una opción: \")\n",
        "\n",
        "    match opcion:\n",
        "        case '1':\n",
        "            print(df_inventario)\n",
        "        case '2':\n",
        "            print(\"Ingresa el ID del producto que deseas agregar:\")\n",
        "            id_texto = input(\"ID del producto: \")\n",
        "            if id_texto.isdigit():\n",
        "                id_producto = int(id_texto)\n",
        "                producto = buscar_producto(id_producto)\n",
        "                if producto != None:\n",
        "                    carrito.append(producto)\n",
        "                    print(producto[\"nombre\"], \"agregado al carrito.\")\n",
        "                else:\n",
        "                    print(\"Producto no encontrado.\")\n",
        "            else:\n",
        "                print(\"Debes ingresar un número.\")\n",
        "        case '3':\n",
        "            if len(carrito) == 0:\n",
        "                print(\"El carrito está vacío.\")\n",
        "            else:\n",
        "                print(\"Tu carrito:\")\n",
        "                total = 0\n",
        "                for p in carrito:\n",
        "                    print(\"- \" + p[\"nombre\"] + \" ($\" + str(p[\"precio\"]) + \")\")\n",
        "                    total += p[\"precio\"]\n",
        "                print(\"Total: $\" + str(total))\n",
        "        case '4':\n",
        "            print(\"¡Gracias por usar la tienda!\")\n",
        "        case _:\n",
        "            print(\"Opción no válida.\")\n"
      ],
      "metadata": {
        "colab": {
          "base_uri": "https://localhost:8080/"
        },
        "id": "XBS7rmA0QGFx",
        "outputId": "0454df06-f836-4247-9a08-3cbac2eb7140"
      },
      "execution_count": 1,
      "outputs": [
        {
          "output_type": "stream",
          "name": "stdout",
          "text": [
            "Bienvenido a la tienda\n",
            "Inventario:\n",
            "   id   nombre  precio\n",
            "0   1  Manzana    1000\n",
            "1   2      Pan     500\n",
            "2   3    Leche    3000\n",
            "\n",
            "--- Menú ---\n",
            "1. Ver inventario\n",
            "2. Agregar producto al carrito\n",
            "3. Ver carrito\n",
            "4. Salir\n",
            "Selecciona una opción: 2\n",
            "Ingresa el ID del producto que deseas agregar:\n",
            "ID del producto: 2\n",
            "Pan agregado al carrito.\n",
            "\n",
            "--- Menú ---\n",
            "1. Ver inventario\n",
            "2. Agregar producto al carrito\n",
            "3. Ver carrito\n",
            "4. Salir\n",
            "Selecciona una opción: 3\n",
            "Tu carrito:\n",
            "- Pan ($500)\n",
            "Total: $500\n",
            "\n",
            "--- Menú ---\n",
            "1. Ver inventario\n",
            "2. Agregar producto al carrito\n",
            "3. Ver carrito\n",
            "4. Salir\n",
            "Selecciona una opción: 4\n",
            "¡Gracias por usar la tienda!\n"
          ]
        }
      ]
    }
  ]
}