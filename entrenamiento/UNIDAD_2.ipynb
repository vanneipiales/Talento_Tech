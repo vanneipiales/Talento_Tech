{
  "nbformat": 4,
  "nbformat_minor": 0,
  "metadata": {
    "colab": {
      "provenance": []
    },
    "kernelspec": {
      "name": "python3",
      "display_name": "Python 3"
    },
    "language_info": {
      "name": "python"
    }
  },
  "cells": [
    {
      "cell_type": "code",
      "execution_count": 2,
      "metadata": {
        "colab": {
          "base_uri": "https://localhost:8080/"
        },
        "id": "NvndVHttiz2Z",
        "outputId": "d5a8a69f-bc89-483d-f2f5-d8efa4c79eaf"
      },
      "outputs": [
        {
          "output_type": "stream",
          "name": "stdout",
          "text": [
            "3, 5, 6\n",
            "Ingresa el número de manzanas de Juan: 3\n",
            "Ingresa el número de manzanas de María: 5\n",
            "Ingresa el número de manzanas de Adán: 6\n",
            "Manzanas de Juan, María y Adán: 3, 5, 6\n",
            "Total de manzanas: 14\n"
          ]
        }
      ],
      "source": [
        "# Crear las variables y asignarles los valores\n",
        "john = 3    # Juan tenía 3 manzanas\n",
        "mary = 5    # María tenía 5 manzanas\n",
        "adam = 6    # Adán tenía 6 manzanas\n",
        "\n",
        "# Imprimir las variables separadas por comas\n",
        "print(john, mary, adam, sep=\", \")\n",
        "\n",
        "# Solicitar al usuario ingresar las cantidades de manzanas\n",
        "john = int(input(\"Ingresa el número de manzanas de Juan: \"))\n",
        "mary = int(input(\"Ingresa el número de manzanas de María: \"))\n",
        "adam = int(input(\"Ingresa el número de manzanas de Adán: \"))\n",
        "\n",
        "# Mostrar las cantidades ingresadas\n",
        "print(f\"Manzanas de Juan, María y Adán: {john}, {mary}, {adam}\")\n",
        "\n",
        "# Calcular el total de manzanas\n",
        "total_apples = john + mary + adam\n",
        "\n",
        "# Imprimir el total\n",
        "print(f\"Total de manzanas: {total_apples}\")"
      ]
    }
  ]
}