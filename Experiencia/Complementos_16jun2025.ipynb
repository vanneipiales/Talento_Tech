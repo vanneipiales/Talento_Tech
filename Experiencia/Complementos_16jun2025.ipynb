{
  "nbformat": 4,
  "nbformat_minor": 0,
  "metadata": {
    "colab": {
      "provenance": []
    },
    "kernelspec": {
      "name": "python3",
      "display_name": "Python 3"
    },
    "language_info": {
      "name": "python"
    }
  },
  "cells": [
    {
      "cell_type": "markdown",
      "source": [
        "# Complementos-bootcamp-PR-presencial:\n",
        "\n",
        "Por:\n",
        "Ejecutor Andrés Escallón\n",
        "\n",
        "16-jun-2025\n",
        "\n",
        "- OBSERVACIÓN:\n",
        "\n",
        "Los siguientes ejemplo no existen en ninguna \"parte del mundo en Internet\", es decir, el ejecutor se los inventó en vivo, pero puede haber similitudes."
      ],
      "metadata": {
        "id": "T7u-mbixOJ9Z"
      }
    },
    {
      "cell_type": "markdown",
      "source": [
        "# Operador ternario:"
      ],
      "metadata": {
        "id": "u018kG6JOZYX"
      }
    },
    {
      "cell_type": "code",
      "execution_count": null,
      "metadata": {
        "colab": {
          "base_uri": "https://localhost:8080/"
        },
        "id": "M5aFfXJ_OBiL",
        "outputId": "847afd51-0102-476a-9080-50a29c05e69b"
      },
      "outputs": [
        {
          "output_type": "stream",
          "name": "stdout",
          "text": [
            "¿Cuánto es 1 + 1 ?: 3\n",
            "Su respuesta es: Falsa\n"
          ]
        }
      ],
      "source": [
        "pregunta = input(\"¿Cuánto es 1 + 1 ?: \")\n",
        "respuesta = True if pregunta == \"2\" else False\n",
        "respuesta_espanol = \"Verdadera\" if respuesta==True else \"Falsa\"\n",
        "print(f\"Su respuesta es: {respuesta_espanol}\")"
      ]
    },
    {
      "cell_type": "code",
      "source": [
        "pregunta = input(\"¿Cuál es la capital del departamento del Putumayo (NO USAR TILDES)?: \")\n",
        "respuesta = True if pregunta.lower() == \"mocoa\"  else False\n",
        "respuesta_espanol = \"Verdadera\" if respuesta==True else \"Falsa\"\n",
        "print(f\"Su respuesta es: {respuesta_espanol}\")"
      ],
      "metadata": {
        "colab": {
          "base_uri": "https://localhost:8080/"
        },
        "id": "bAn70xQ9P9Z_",
        "outputId": "6cc6fd2b-3c37-48ca-c2fc-d05677da84d4"
      },
      "execution_count": null,
      "outputs": [
        {
          "output_type": "stream",
          "name": "stdout",
          "text": [
            "¿Cuál es la capital del departamento del Putumayo (NO USAR TILDES)?: moCOa\n",
            "Su respuesta es: Verdadera\n"
          ]
        }
      ]
    },
    {
      "cell_type": "code",
      "source": [
        "pregunta"
      ],
      "metadata": {
        "colab": {
          "base_uri": "https://localhost:8080/",
          "height": 35
        },
        "id": "sy8Cy4JCQqMA",
        "outputId": "68ed0444-e59d-427a-c38d-d254e15c9070"
      },
      "execution_count": null,
      "outputs": [
        {
          "output_type": "execute_result",
          "data": {
            "text/plain": [
              "'MOCOA'"
            ],
            "application/vnd.google.colaboratory.intrinsic+json": {
              "type": "string"
            }
          },
          "metadata": {},
          "execution_count": 12
        }
      ]
    },
    {
      "cell_type": "code",
      "source": [
        "pregunta.lower()"
      ],
      "metadata": {
        "colab": {
          "base_uri": "https://localhost:8080/",
          "height": 35
        },
        "id": "awDkYd77Qusg",
        "outputId": "74a9e779-46b0-4652-cc6e-3edfa4cebb25"
      },
      "execution_count": null,
      "outputs": [
        {
          "output_type": "execute_result",
          "data": {
            "text/plain": [
              "'mocoa'"
            ],
            "application/vnd.google.colaboratory.intrinsic+json": {
              "type": "string"
            }
          },
          "metadata": {},
          "execution_count": 13
        }
      ]
    },
    {
      "cell_type": "markdown",
      "source": [
        "# Manejo de errores con excepciones (try...except):"
      ],
      "metadata": {
        "id": "AsbIFz34Rv4S"
      }
    },
    {
      "cell_type": "code",
      "source": [
        "print(\"Ejemplo (división) de Manejo de errores con excepciones (try...except):\")\n",
        "num = float(input(\"Ingrese el numerador: \"))\n",
        "den = float(input(\"Ingrese el denominador: \"))\n",
        "\n",
        "try:\n",
        "  div = num/den\n",
        "  print(f\"El resultado de la división es: {div}\")\n",
        "except ZeroDivisionError:\n",
        "  print(\"Recuerda que no es posible dividir entre cero!\")"
      ],
      "metadata": {
        "colab": {
          "base_uri": "https://localhost:8080/"
        },
        "id": "-x_L4eYlSYtR",
        "outputId": "88d194b3-d2a5-4afc-b3fd-4e7d303a465c"
      },
      "execution_count": null,
      "outputs": [
        {
          "output_type": "stream",
          "name": "stdout",
          "text": [
            "Ejemplo (división) de Manejo de errores con excepciones (try...except):\n",
            "Ingrese el numerador: 88\n",
            "Ingrese el denominador: 0\n",
            "Recuerda que no es posible dividir entre cero!\n"
          ]
        }
      ]
    },
    {
      "cell_type": "code",
      "source": [
        "print(\"Ejemplo (división) de Manejo de errores con excepciones (try...except):\")\n",
        "num = float(input(\"Ingrese el numerador: \"))\n",
        "den = float(input(\"Ingrese el denominador: \"))\n",
        "\n",
        "try:\n",
        "  div = num/den\n",
        "  print(f\"El resultado de la división es: {div}\")\n",
        "except:\n",
        "  print(\"Recuerda que no es posible dividir entre cero!\")"
      ],
      "metadata": {
        "colab": {
          "base_uri": "https://localhost:8080/"
        },
        "id": "USImSWtmUk-x",
        "outputId": "20d8d5e4-7c2a-4143-b959-b5c12ae8dbff"
      },
      "execution_count": null,
      "outputs": [
        {
          "output_type": "stream",
          "name": "stdout",
          "text": [
            "Ejemplo (división) de Manejo de errores con excepciones (try...except):\n",
            "Ingrese el numerador: 34\n",
            "Ingrese el denominador: 0\n",
            "Recuerda que no es posible dividir entre cero!\n"
          ]
        }
      ]
    },
    {
      "cell_type": "markdown",
      "source": [
        "# Función lambda:"
      ],
      "metadata": {
        "id": "zYrzPE2ZhWSI"
      }
    },
    {
      "cell_type": "code",
      "source": [
        "n1 = float(input(\"Enter the 1st number: \"))\n",
        "n2 = float(input(\"Enter the 2nd number: \"))\n",
        "\n",
        "suma = lambda a,b: a+b\n",
        "resultado = suma(n1, n2)\n",
        "print(f\"The sum is: {resultado}\")\n",
        "\n",
        "resta = lambda a,b: a-b\n",
        "resultado = resta(n1, n2)\n",
        "print(f\"The substraction is: {resultado}\")\n",
        "\n",
        "multiplicacion = lambda a,b: a*b\n",
        "resultado = multiplicacion(n1, n2)\n",
        "print(f\"The multiplication is: {resultado}\")\n",
        "\n",
        "division = lambda a,b: a/b\n",
        "resultado = division(n1, n2) if n2!=0 else \"You cannot divide by zero\"\n",
        "print(f\"The division is: {resultado}\")"
      ],
      "metadata": {
        "colab": {
          "base_uri": "https://localhost:8080/"
        },
        "id": "FuXIhTRghkpA",
        "outputId": "5a66eb29-1d0f-4d25-e91e-df8c74a05d51"
      },
      "execution_count": null,
      "outputs": [
        {
          "output_type": "stream",
          "name": "stdout",
          "text": [
            "Enter the 1st number: 14\n",
            "Enter the 2nd number: 45\n",
            "The sum is: 59.0\n",
            "The substraction is: -31.0\n",
            "The multiplication is: 630.0\n",
            "The division is: 0.3111111111111111\n",
            "The power is: 3.764970741313956e+51\n",
            "The root is: 1.0603994941926729\n",
            "The logarithm is: 0.6932732641013545\n"
          ]
        }
      ]
    },
    {
      "cell_type": "code",
      "source": [
        "# TAREA (terminar siguiendo el ejemplo anterior)\n",
        "import math\n",
        "\n",
        "n1 = float(input(\"Enter the 1st number: \"))\n",
        "n2 = float(input(\"Enter the 2nd number: \"))\n",
        "\n",
        "potencia = lambda base,exponente: math.pow(base,exponente)  # base**exponente\n",
        "resultado = potencia(n1, n2)\n",
        "print(f\"The power is: {resultado}\")\n",
        "\n",
        "raiz = lambda a,b: math.pow(a, 1/b) if b!=0 else \"Undefined (cannot take root with zero)\"\n",
        "resultado = raiz(n1, n2)\n",
        "print(f\"The root is: {resultado}\")\n",
        "\n",
        "logaritmo = lambda a,b: math.log(a, b) if a>0 and b>0 and b!=1 else \"Undefined (check log conditions)\"\n",
        "resultado = logaritmo(n1, n2)\n",
        "print(f\"The logarithm is: {resultado}\")"
      ],
      "metadata": {
        "colab": {
          "base_uri": "https://localhost:8080/"
        },
        "id": "ztob_zZ0uoCb",
        "outputId": "4370749c-826a-43bf-8b42-10349d229816"
      },
      "execution_count": null,
      "outputs": [
        {
          "output_type": "stream",
          "name": "stdout",
          "text": [
            "Enter the 1st number: 5\n",
            "Enter the 2nd number: 5\n",
            "The power is: 3125.0\n",
            "The root is: 1.379729661461215\n",
            "The logarithm is: 1.0\n"
          ]
        }
      ]
    },
    {
      "cell_type": "code",
      "source": [
        "# TAREA (terminar siguiendo el ejemplo anterior):\n",
        "import math\n",
        "\n",
        "angulo_radianes = float(input(\"Enter the angle in radians: \"))\n",
        "\n",
        "seno = lambda angulo_radianes: math.sin(angulo_radianes)\n",
        "resultado = seno(angulo_radianes)\n",
        "print(f\"The sine is: {resultado}\")\n",
        "coseno = lambda a,b: a-b\n",
        "resultado = coseno(n1, n2)\n",
        "print(f\"The cosine is: {resultado}\")\n",
        "tangente = lambda a,b: a*b\n",
        "resultado = tangente(n1, n2)\n",
        "print(f\"The tangent is: {resultado}\")\n"
      ],
      "metadata": {
        "id": "UNJzzQuIjGa9",
        "colab": {
          "base_uri": "https://localhost:8080/"
        },
        "outputId": "d1d02541-f2ee-40ba-b66a-fabcb71650ac"
      },
      "execution_count": null,
      "outputs": [
        {
          "output_type": "stream",
          "name": "stdout",
          "text": [
            "Enter the angle in radians: 54\n",
            "The sine is: -0.5587890488516163\n",
            "The cosine is: 0.0\n",
            "The tangent is: 25.0\n"
          ]
        }
      ]
    },
    {
      "cell_type": "markdown",
      "source": [
        "# Función recursiva a través del ejemplo de la función matemática de Fibonacci:\n",
        "\n",
        "Esta es una excepción a la observación al inicio de este cuaderno porque por cuestiones de tiempo tomé el ejemplo de Fibonacci de la url (Sección al 60% del contenido):\n",
        "\n",
        "https://aprendeconalf.es/docencia/python/manual/funciones/\n",
        "\n",
        "(Obviamente se va a adaptar~limpieza y explicarla mejor para una celda de Google Colab)\n",
        "\n",
        "```\n",
        ">>> def fibonacci(n):\n",
        "...     if n <= 1:\n",
        "...         return n\n",
        "...     else:\n",
        "...         return fibonacci(n - 1) + fibonacci(n - 2)\n",
        "...\n",
        ">>> fibonacci(6)\n",
        "```\n",
        "\n"
      ],
      "metadata": {
        "id": "JSa6yDr_hlHw"
      }
    },
    {
      "cell_type": "code",
      "source": [
        "def fibonacci(n): # n debe ser un numero entero positivo incluyendo el cero (numero natural)\n",
        "     if n <= 1:\n",
        "         return n\n",
        "     else:\n",
        "         return fibonacci(n - 1) + fibonacci(n - 2) # aquí se aplica la recursividad pues dentro del mismo bloque de código llamo a la función\n",
        "\n",
        "print(fibonacci(0)) # retorna 0\n",
        "print(fibonacci(1)) # retorna 1\n",
        "print(fibonacci(2)) # retorna la suma de los dos anteriores: 1 + 0 = 1\n",
        "print(fibonacci(3)) # retorna la suma de los dos anteriores: 1 + 1 = 2\n",
        "print(fibonacci(4)) # retorna 3\n",
        "print(fibonacci(5)) # retorna 5\n",
        "print(fibonacci(6)) # retorna 8\n",
        "print(fibonacci(7)) # retorna 13\n",
        "print(fibonacci(8)) # retorna 21\n",
        "print(fibonacci(9)) # retorna 34\n",
        "print(fibonacci(10)) # retorna 55\n",
        "print(fibonacci(11)) # retorna 89\n",
        "print(fibonacci(12)) # retorna 144\n",
        "print(fibonacci(13)) # retorna 233\n",
        "print(fibonacci(14)) # retorna 377\n",
        "print(fibonacci(15)) # retorna 610\n",
        "print(fibonacci(16)) # retorna 987\n",
        "print(fibonacci(17)) # retorna 1597\n",
        "print(fibonacci(18)) # retorna 2584\n",
        "print(fibonacci(19)) # retorna 4181\n",
        "print(fibonacci(20)) # retorna 6765\n"
      ],
      "metadata": {
        "id": "18VoTT5sBAWb"
      },
      "execution_count": null,
      "outputs": []
    },
    {
      "cell_type": "code",
      "source": [
        "def fibonacci(n): # n debe ser un numero entero positivo incluyendo el cero (numero natural)\n",
        "     if n <= 1:\n",
        "         return n\n",
        "     else:\n",
        "         return fibonacci(n - 1) + fibonacci(n - 2) # aquí se aplica la recursividad pues denrto del mismo bloque de código llamo a la función\n",
        "\n",
        "\n",
        "#print(\"\\nCalculando Fibonacci hasta n=20:\")\n",
        "for n in range(1, 21):\n",
        "  print(fibonacci(n)) == fibonacci(n-1) + fibonacci(n-2)\n",
        "\n"
      ],
      "metadata": {
        "colab": {
          "base_uri": "https://localhost:8080/"
        },
        "id": "9zE8-huvht9_",
        "outputId": "a7d63816-3455-4970-d2d1-94f65049b3f3"
      },
      "execution_count": null,
      "outputs": [
        {
          "output_type": "stream",
          "name": "stdout",
          "text": [
            "1\n",
            "1\n",
            "2\n",
            "3\n",
            "5\n",
            "8\n",
            "13\n",
            "21\n",
            "34\n",
            "55\n",
            "89\n",
            "144\n",
            "233\n",
            "377\n",
            "610\n",
            "987\n",
            "1597\n",
            "2584\n",
            "4181\n",
            "6765\n"
          ]
        }
      ]
    },
    {
      "cell_type": "markdown",
      "source": [
        "# **Funcion factorial recursiva vs Funcion factorial no recursiva**"
      ],
      "metadata": {
        "id": "LZCSFpsTz8-x"
      }
    },
    {
      "cell_type": "code",
      "source": [
        "import timeit\n",
        "import sys # Import the sys module\n",
        "\n",
        "sys.setrecursionlimit(1500)\n",
        "\n",
        "# --- Factorial recursivo ---\n",
        "def factorial_recursivo(n):\n",
        "    if n == 0 or n == 1:\n",
        "        return 1\n",
        "    return n * factorial_recursivo(n - 1)\n",
        "\n",
        "# --- Factorial iterativo ---\n",
        "def factorial_iterativo(n):\n",
        "    resultado = 1\n",
        "    for i in range(2, n + 1):\n",
        "        resultado *= i\n",
        "    return resultado\n",
        "\n",
        "# --- Definir valor a probar ---\n",
        "n = 1000  # valor alto para notar diferencia\n",
        "\n",
        "# --- Medir tiempos ---\n",
        "tiempo_recursivo = timeit.timeit(lambda: factorial_recursivo(n), number=1)\n",
        "tiempo_iterativo = timeit.timeit(lambda: factorial_iterativo(n), number=1)\n",
        "\n",
        "print(f\"Factorial recursivo tardó: {tiempo_recursivo:.6f} segundos\")\n",
        "print(f\"Factorial iterativo tardó: {tiempo_iterativo:.6f} segundos\")\n"
      ],
      "metadata": {
        "colab": {
          "base_uri": "https://localhost:8080/"
        },
        "id": "o3iLTjHFAfcL",
        "outputId": "b7557066-1ee8-4973-89b2-b9dc4864a758"
      },
      "execution_count": 21,
      "outputs": [
        {
          "output_type": "stream",
          "name": "stdout",
          "text": [
            "Factorial recursivo tardó: 0.000336 segundos\n",
            "Factorial iterativo tardó: 0.000173 segundos\n"
          ]
        }
      ]
    },
    {
      "cell_type": "markdown",
      "source": [
        "# Consulta: cómo volver más eficiente las funciones recursivas?\n"
      ],
      "metadata": {
        "id": "TqNA0eT-DMjc"
      }
    },
    {
      "cell_type": "code",
      "source": [
        "'''\n",
        "1. Memorización (memoization): Guarda los resultados ya calculados para no repetir trabajo innecesario.\n",
        "Ejemplo práctico: Sucesión de Fibonacci\n",
        "Versión recursiva ineficiente (sin memorización):\n",
        "'''\n",
        "\n",
        "def fibonacci(n):\n",
        "    if n <= 1:\n",
        "        return n\n",
        "    return fibonacci(n - 1) + fibonacci(n - 2)\n",
        "\n",
        "print(fibonacci(30))  # Muy lento\n"
      ],
      "metadata": {
        "colab": {
          "base_uri": "https://localhost:8080/"
        },
        "id": "1NAJaXFABbFr",
        "outputId": "29ac9e07-3d25-4f4a-8219-248aa4ec9596"
      },
      "execution_count": 23,
      "outputs": [
        {
          "output_type": "stream",
          "name": "stdout",
          "text": [
            "832040\n"
          ]
        }
      ]
    },
    {
      "cell_type": "code",
      "source": [
        "#Versión eficiente con memoización manual:\n",
        "memo = {}\n",
        "\n",
        "def fibonacci(n):\n",
        "    if n in memo:\n",
        "        return memo[n]\n",
        "    if n <= 1:\n",
        "        memo[n] = n\n",
        "    else:\n",
        "        memo[n] = fibonacci(n - 1) + fibonacci(n - 2)\n",
        "    return memo[n]\n",
        "\n",
        "print(fibonacci(30))  # Mucho más rápido\n"
      ],
      "metadata": {
        "colab": {
          "base_uri": "https://localhost:8080/"
        },
        "id": "CizY8lZVEZJd",
        "outputId": "c65f434d-006f-4cd0-d495-bcccda34c94b"
      },
      "execution_count": 24,
      "outputs": [
        {
          "output_type": "stream",
          "name": "stdout",
          "text": [
            "832040\n"
          ]
        }
      ]
    },
    {
      "cell_type": "code",
      "source": [
        "#Alternativa moderna: functools.lru_cache: Python tiene una herramienta automática para memorizar:\n",
        "\n",
        "from functools import lru_cache\n",
        "\n",
        "@lru_cache(maxsize=None)\n",
        "def fibonacci(n):\n",
        "    if n <= 1:\n",
        "        return n\n",
        "    return fibonacci(n - 1) + fibonacci(n - 2)\n",
        "\n",
        "print(fibonacci(30))\n"
      ],
      "metadata": {
        "colab": {
          "base_uri": "https://localhost:8080/"
        },
        "id": "57SCSF9RECg9",
        "outputId": "d8cbe4a5-8073-4b00-8e3d-179fb0d754d2"
      },
      "execution_count": 25,
      "outputs": [
        {
          "output_type": "stream",
          "name": "stdout",
          "text": [
            "832040\n"
          ]
        }
      ]
    }
  ]
}