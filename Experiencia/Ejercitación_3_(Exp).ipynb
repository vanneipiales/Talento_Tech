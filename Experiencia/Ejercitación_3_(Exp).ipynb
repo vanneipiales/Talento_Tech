{
  "nbformat": 4,
  "nbformat_minor": 0,
  "metadata": {
    "colab": {
      "provenance": []
    },
    "kernelspec": {
      "name": "python3",
      "display_name": "Python 3"
    },
    "language_info": {
      "name": "python"
    }
  },
  "cells": [
    {
      "cell_type": "markdown",
      "source": [
        "# **1. Ejercitación Pizzeria**\n",
        " Realice un programa que se encargue de facturar un pedido de pizza para\n",
        " un usuario. Para iniciar determine los precios para el tamaño de pizza, S, M y\n",
        " L. El costo de agregar peperoni a la pizza S, M o L y el costo de agregar\n",
        " extra queso a la Pizza S, M o L.\n",
        "\n",
        " Debe preguntar al usuario cada uno de los datos y al final entregar el precio\n",
        " final a pagar por la pizza."
      ],
      "metadata": {
        "id": "nVUIGvAkpxa6"
      }
    },
    {
      "cell_type": "code",
      "source": [
        "# Precios base de las pizzas\n",
        "precio_S = 5.0\n",
        "precio_M = 8.0\n",
        "precio_L = 10.0\n",
        "\n",
        "# Costos adicionales\n",
        "pepperoni_S = 1.0\n",
        "pepperoni_M_L = 2.0\n",
        "extra_queso = 1.0  # Costo fijo para cualquier tamaño\n",
        "\n",
        "# Solicitar datos al usuario\n",
        "tamaño = input(\"¿Qué tamaño de pizza desea? (S/M/L): \").upper()\n",
        "agregar_pepperoni = input(\"¿Desea agregar pepperoni? (Sí/No): \").lower()\n",
        "agregar_queso = input(\"¿Desea extra queso? (Sí/No): \").lower()\n",
        "\n",
        "# Calcular precio base usando operador ternario\n",
        "precio_base = precio_S if tamaño == 'S' else (precio_M if tamaño == 'M' else precio_L)\n",
        "\n",
        "# Calcular costo de pepperoni usando operador ternario\n",
        "costo_pepperoni = pepperoni_S if (tamaño == 'S' and agregar_pepperoni == 'sí') else (\n",
        "                  pepperoni_M_L if (tamaño in ['M', 'L'] and agregar_pepperoni == 'sí') else 0)\n",
        "\n",
        "# Calcular costo de queso usando operador ternario\n",
        "costo_queso = extra_queso if agregar_queso == 'sí' else 0\n",
        "\n",
        "# Precio total\n",
        "total = precio_base + costo_pepperoni + costo_queso\n",
        "\n",
        "# Mostrar factura\n",
        "print(\"\\n--- Factura ---\")\n",
        "print(f\"Tamaño: {tamaño} - ${precio_base:.2f}\")\n",
        "print(f\"Pepperoni: {'Sí' if agregar_pepperoni == 'sí' else 'No'} - ${costo_pepperoni:.2f}\")\n",
        "print(f\"Extra queso: {'Sí' if agregar_queso == 'sí' else 'No'} - ${costo_queso:.2f}\")\n",
        "print(f\"Total a pagar: ${total:.2f}\")"
      ],
      "metadata": {
        "colab": {
          "base_uri": "https://localhost:8080/"
        },
        "id": "SGBHZHsgqciz",
        "outputId": "e9096a73-822e-4b32-ea0f-bc6ade0d10ab"
      },
      "execution_count": 1,
      "outputs": [
        {
          "output_type": "stream",
          "name": "stdout",
          "text": [
            "¿Qué tamaño de pizza desea? (S/M/L): S\n",
            "¿Desea agregar pepperoni? (Sí/No): Si\n",
            "¿Desea extra queso? (Sí/No): No\n",
            "\n",
            "--- Factura ---\n",
            "Tamaño: S - $5.00\n",
            "Pepperoni: No - $0.00\n",
            "Extra queso: No - $0.00\n",
            "Total a pagar: $5.00\n"
          ]
        }
      ]
    },
    {
      "cell_type": "markdown",
      "source": [
        "# **Love Calculator in Python (English Version)**"
      ],
      "metadata": {
        "id": "gRDWF6-Zr6dq"
      }
    },
    {
      "cell_type": "code",
      "source": [
        "print(\"The Love Calculator is calculating your score...\")\n",
        "\n",
        "# Get input names\n",
        "name1 = input(\"What is your name? \").lower()\n",
        "name2 = input(\"What is their name? \").lower()\n",
        "\n",
        "# Combine names\n",
        "combined_names = name1 + name2\n",
        "\n",
        "# Count letters in \"TRUE\"\n",
        "true_count = (\n",
        "    combined_names.count(\"t\") +\n",
        "    combined_names.count(\"r\") +\n",
        "    combined_names.count(\"u\") +\n",
        "    combined_names.count(\"e\")\n",
        ")\n",
        "\n",
        "# Count letters in \"LOVE\"\n",
        "love_count = (\n",
        "    combined_names.count(\"l\") +\n",
        "    combined_names.count(\"o\") +\n",
        "    combined_names.count(\"v\") +\n",
        "    combined_names.count(\"e\")\n",
        ")\n",
        "\n",
        "# Combine counts to make 2-digit score\n",
        "love_score = int(f\"{true_count}{love_count}\")\n",
        "\n",
        "# Determine the result message\n",
        "if love_score < 10 or love_score > 90:\n",
        "    message = f\"Your score is {love_score}, you go together like coke and mentos.\"\n",
        "elif 40 <= love_score <= 50:\n",
        "    message = f\"Your score is {love_score}, you are alright together.\"\n",
        "else:\n",
        "    message = f\"Your score is {love_score}.\"\n",
        "\n",
        "print(message)"
      ],
      "metadata": {
        "colab": {
          "base_uri": "https://localhost:8080/"
        },
        "id": "PSs4VsQ5r-s_",
        "outputId": "3f3c8dd6-edfc-4cd3-fb83-edf0c4083784"
      },
      "execution_count": 4,
      "outputs": [
        {
          "output_type": "stream",
          "name": "stdout",
          "text": [
            "The Love Calculator is calculating your score...\n",
            "What is your name? Nathalia\n",
            "What is their name? Jhoan\n",
            "Your score is 12.\n"
          ]
        }
      ]
    },
    {
      "cell_type": "markdown",
      "source": [
        "# **Ejercitación IMC**\n",
        " Realice un programa que reciba el peso y la estatura y calcule el índice de masa corporal y le indique al usuario si esta bajo de peso, normal, subido de peso o con sobrepeso u obeso.\n",
        "\n",
        " ``` menor a 18.5 es bajo de peso Entre 18.5 y 25 es normal, Entre 25 y 30 es sobrepeso entre 30 y 35 es obesidad tipo I entre 35 y 40 es obesidad tipo II entre 40 y 50 es obesidad tipo III - Morbida Más de 50 es obesidad tipo IV o extrema"
      ],
      "metadata": {
        "id": "FLf8HA1bsMVV"
      }
    },
    {
      "cell_type": "code",
      "source": [
        "def calcular_imc():\n",
        "    print(\"\\nCalculadora de IMC\")\n",
        "    print(\"------------------\")\n",
        "\n",
        "    try:\n",
        "        # Solicitar datos al usuario\n",
        "        peso = float(input(\"Ingrese su peso en kilogramos: \"))\n",
        "        estatura = float(input(\"Ingrese su estatura en metros (ej. 1.75): \"))\n",
        "\n",
        "        # Calcular IMC\n",
        "        imc = peso / (estatura ** 2)\n",
        "\n",
        "        # Determinar categoría\n",
        "        if imc < 18.5:\n",
        "            categoria = \"Bajo de peso\"\n",
        "        elif 18.5 <= imc < 25:\n",
        "            categoria = \"Peso normal\"\n",
        "        elif 25 <= imc < 30:\n",
        "            categoria = \"Sobrepeso\"\n",
        "        elif 30 <= imc < 35:\n",
        "            categoria = \"Obesidad tipo I\"\n",
        "        elif 35 <= imc < 40:\n",
        "            categoria = \"Obesidad tipo II\"\n",
        "        elif 40 <= imc < 50:\n",
        "            categoria = \"Obesidad tipo III (Mórbida)\"\n",
        "        else:\n",
        "            categoria = \"Obesidad tipo IV (Extrema)\"\n",
        "\n",
        "        # Mostrar resultados\n",
        "        print(f\"\\nSu IMC es: {imc:.2f}\")\n",
        "        print(f\"Categoría: {categoria}\")\n",
        "\n",
        "    except ValueError:\n",
        "        print(\"Error: Por favor ingrese valores numéricos válidos.\")\n",
        "\n",
        "# Ejecutar el programa\n",
        "calcular_imc()"
      ],
      "metadata": {
        "colab": {
          "base_uri": "https://localhost:8080/"
        },
        "id": "4FFStDnhse49",
        "outputId": "dc33711d-2b2d-417a-d704-85d2c4989d87"
      },
      "execution_count": 5,
      "outputs": [
        {
          "output_type": "stream",
          "name": "stdout",
          "text": [
            "\n",
            "Calculadora de IMC\n",
            "------------------\n",
            "Ingrese su peso en kilogramos: 47\n",
            "Ingrese su estatura en metros (ej. 1.75): 1.56\n",
            "\n",
            "Su IMC es: 19.31\n",
            "Categoría: Peso normal\n"
          ]
        }
      ]
    },
    {
      "cell_type": "markdown",
      "source": [
        "# **Ejercitación año bisiesto**\n",
        " Dado un año, determine si el año es bisiesto, recuerde que solo se pued"
      ],
      "metadata": {
        "id": "K4RDDsl0spEs"
      }
    },
    {
      "cell_type": "code",
      "source": [
        "def es_bisiesto():\n",
        "    print(\"\\nVerificador de Año Bisiesto\")\n",
        "    print(\"--------------------------\")\n",
        "\n",
        "    try:\n",
        "        # Solicitar año al usuario\n",
        "        año = int(input(\"Ingrese un año: \"))\n",
        "\n",
        "        # Determinar si es bisiesto\n",
        "        if (año % 4 == 0 and año % 100 != 0) or (año % 400 == 0):\n",
        "            print(f\"\\nEl año {año} SÍ es bisiesto\")\n",
        "        else:\n",
        "            print(f\"\\nEl año {año} NO es bisiesto\")\n",
        "\n",
        "    except ValueError:\n",
        "        print(\"Error: Por favor ingrese un año válido (número entero)\")\n",
        "\n",
        "# Ejecutar el programa\n",
        "es_bisiesto()"
      ],
      "metadata": {
        "colab": {
          "base_uri": "https://localhost:8080/"
        },
        "id": "R_Nlx7WjsrnT",
        "outputId": "6e47896c-fc55-47ed-a741-75d492facb2e"
      },
      "execution_count": 6,
      "outputs": [
        {
          "output_type": "stream",
          "name": "stdout",
          "text": [
            "\n",
            "Verificador de Año Bisiesto\n",
            "--------------------------\n",
            "Ingrese un año: 2025\n",
            "\n",
            "El año 2025 NO es bisiesto\n"
          ]
        }
      ]
    }
  ]
}