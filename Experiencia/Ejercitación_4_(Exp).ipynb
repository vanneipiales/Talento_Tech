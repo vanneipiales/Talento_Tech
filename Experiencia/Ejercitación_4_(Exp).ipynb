{
  "nbformat": 4,
  "nbformat_minor": 0,
  "metadata": {
    "colab": {
      "provenance": []
    },
    "kernelspec": {
      "name": "python3",
      "display_name": "Python 3"
    },
    "language_info": {
      "name": "python"
    }
  },
  "cells": [
    {
      "cell_type": "markdown",
      "source": [
        "# **CICLO WHILE**\n",
        "\n",
        "---\n",
        "\n"
      ],
      "metadata": {
        "id": "Tqin-6ftvAob"
      }
    },
    {
      "cell_type": "markdown",
      "source": [
        "# **Ejercitación 1:**\n",
        " Implementar un código que imprima los números factoriales, utilizando while, hasta un número determinado."
      ],
      "metadata": {
        "id": "JlWZreTWtYPd"
      }
    },
    {
      "cell_type": "code",
      "source": [
        "def factorial():\n",
        "    num = int(input(\"Ingrese un número para calcular su factorial: \"))\n",
        "    factorial = 1\n",
        "    i = 1\n",
        "    print(f\"Secuencia factorial hasta {num}:\")\n",
        "\n",
        "    while i <= num:\n",
        "        factorial *= i\n",
        "        print(f\"{i}! = {factorial}\")\n",
        "        i += 1\n",
        "\n",
        "factorial()"
      ],
      "metadata": {
        "colab": {
          "base_uri": "https://localhost:8080/"
        },
        "id": "5BfJABmKtljz",
        "outputId": "85f87c23-61c8-44e9-8f0e-41d94eb46a60"
      },
      "execution_count": 1,
      "outputs": [
        {
          "output_type": "stream",
          "name": "stdout",
          "text": [
            "Ingrese un número para calcular su factorial: 15\n",
            "Secuencia factorial hasta 15:\n",
            "1! = 1\n",
            "2! = 2\n",
            "3! = 6\n",
            "4! = 24\n",
            "5! = 120\n",
            "6! = 720\n",
            "7! = 5040\n",
            "8! = 40320\n",
            "9! = 362880\n",
            "10! = 3628800\n",
            "11! = 39916800\n",
            "12! = 479001600\n",
            "13! = 6227020800\n",
            "14! = 87178291200\n",
            "15! = 1307674368000\n"
          ]
        }
      ]
    },
    {
      "cell_type": "markdown",
      "source": [
        "Imprimir la sucesión de Fibonacci hasta el número 20. Cómo implementaría la condición de parada?\n"
      ],
      "metadata": {
        "id": "o-1_pppQtrET"
      }
    },
    {
      "cell_type": "code",
      "source": [
        "def fibonacci():\n",
        "    a, b = 0, 1\n",
        "    print(\"Sucesión de Fibonacci hasta el número 20:\")\n",
        "\n",
        "    while a <= 20:\n",
        "        print(a, end=\" \")\n",
        "        a, b = b, a + b\n",
        "\n",
        "fibonacci()"
      ],
      "metadata": {
        "colab": {
          "base_uri": "https://localhost:8080/"
        },
        "id": "bGkxcLwst85e",
        "outputId": "4c3b4fda-0751-4101-ede3-8c61d714fa2e"
      },
      "execution_count": 3,
      "outputs": [
        {
          "output_type": "stream",
          "name": "stdout",
          "text": [
            "Sucesión de Fibonacci hasta el número 20:\n",
            "0 1 1 2 3 5 8 13 "
          ]
        }
      ]
    },
    {
      "cell_type": "markdown",
      "source": [
        " Implemente un código con dos contadores, uno para números pares yotro para números impares, ahora haga que el usuario ingrese tantos números como desee y sume a cada contador cuando corresponda,recuerde definir la condición de parada, por ejemplo, cuando se ingrese 0."
      ],
      "metadata": {
        "id": "nbcYXAMluDvt"
      }
    },
    {
      "cell_type": "code",
      "source": [
        "def contador_pares_impares():\n",
        "    pares = 0\n",
        "    impares = 0\n",
        "\n",
        "    print(\"Ingrese números (0 para terminar):\")\n",
        "\n",
        "    while True:\n",
        "        num = int(input())\n",
        "        if num == 0:\n",
        "            break\n",
        "        if num % 2 == 0:\n",
        "            pares += 1\n",
        "        else:\n",
        "            impares += 1\n",
        "\n",
        "    print(f\"\\nTotal números pares: {pares}\")\n",
        "    print(f\"Total números impares: {impares}\")\n",
        "\n",
        "contador_pares_impares()"
      ],
      "metadata": {
        "colab": {
          "base_uri": "https://localhost:8080/"
        },
        "id": "7PT2ANixuMAO",
        "outputId": "300a6325-7aad-4cfd-8016-9e1fd8345222"
      },
      "execution_count": 5,
      "outputs": [
        {
          "output_type": "stream",
          "name": "stdout",
          "text": [
            "Ingrese números (0 para terminar):\n",
            "2\n",
            "4\n",
            "7\n",
            "0\n",
            "\n",
            "Total números pares: 2\n",
            "Total números impares: 1\n"
          ]
        }
      ]
    },
    {
      "cell_type": "markdown",
      "source": [
        "# **Ejercitación 2:**\n",
        " Un mago junior ha elegido un número secreto. Lo ha escondido en una variable llamada secret_number Quiere que todos los que ejecutan su programa jueguen el juego divina el número secreto, y adivina qué número ha elegido para ellos. ¡Quiéne no adivinen el número quedarán atrapados en un bucle sin fin para siempre! Desafortunadamente, él no sabe cómo completar el código.\n",
        "\n",
        " Tu tarea es ayudar al mago a completar el código en el editor de tal manera que el código:\n",
        "\n",
        " pedirá al usuario que ingrese un número entero utilizará un bucle while; comprobará si el número ingresado por el usuario es el mismo que el número escogido por el mago. Si el número elegido por el usuario es diferente al número secreto del mago, el usuario debería ver el mensaje \"¡Ja, ja! ¡Estás atrapado en mi bucle!\" y se le solicitará que ingrese un número nuevamente. Si el número ingresado por el usuario coincide con el número escogido por el mago, el número debe imprimirse en la pantalla, y el mago debe decir las siguientes palabras: \"¡Bien hecho, muggle! Eres libre ahora.\"\n"
      ],
      "metadata": {
        "id": "_Rn3EPhduXEW"
      }
    },
    {
      "cell_type": "code",
      "source": [
        "def juego_mago():\n",
        "    secret_number = 7  # Número secreto del mago\n",
        "\n",
        "    print(\"¡Adivina el número secreto del mago!\")\n",
        "\n",
        "    while True:\n",
        "        num = int(input(\"Ingresa un número entero: \"))\n",
        "        if num == secret_number:\n",
        "            print(f\"{secret_number}\")\n",
        "            print(\"¡Bien hecho, muggle! Eres libre ahora.\")\n",
        "            break\n",
        "        else:\n",
        "            print(\"¡Ja, ja! ¡Estás atrapado en mi bucle!\")\n",
        "\n",
        "juego_mago()"
      ],
      "metadata": {
        "colab": {
          "base_uri": "https://localhost:8080/"
        },
        "id": "Csprl4ryuxfb",
        "outputId": "889be2a2-2157-442d-a579-eb560e276477"
      },
      "execution_count": 6,
      "outputs": [
        {
          "output_type": "stream",
          "name": "stdout",
          "text": [
            "¡Adivina el número secreto del mago!\n",
            "Ingresa un número entero: 3\n",
            "¡Ja, ja! ¡Estás atrapado en mi bucle!\n",
            "Ingresa un número entero: 7\n",
            "7\n",
            "¡Bien hecho, muggle! Eres libre ahora.\n"
          ]
        }
      ]
    },
    {
      "cell_type": "markdown",
      "source": [
        "# **CILO FOR**\n",
        "\n",
        "---\n",
        "\n"
      ],
      "metadata": {
        "id": "AYGqxbImvPYS"
      }
    },
    {
      "cell_type": "markdown",
      "source": [
        "# **Ejercitación Devorador de vocales**\n",
        " Ahora debe escribir un programa que dada una palabra, imprima línea por línea las letras sin las vocales"
      ],
      "metadata": {
        "id": "MAjAb3vWvS4S"
      }
    },
    {
      "cell_type": "code",
      "source": [
        "def devorador_vocales():\n",
        "    palabra = input(\"Ingrese una palabra: \")\n",
        "    vocales = {'a', 'e', 'i', 'o', 'u', 'A', 'E', 'I', 'O', 'U'}\n",
        "\n",
        "    print(\"\\nLetras de la palabra sin vocales:\")\n",
        "\n",
        "    for letra in palabra:\n",
        "        if letra not in vocales:\n",
        "            print(letra)\n",
        "\n",
        "# Ejecutar el programa\n",
        "devorador_vocales()"
      ],
      "metadata": {
        "colab": {
          "base_uri": "https://localhost:8080/"
        },
        "id": "MUhpc8fAvzEE",
        "outputId": "a8001fd0-98d9-46d6-ebd3-db9d185bd807"
      },
      "execution_count": 7,
      "outputs": [
        {
          "output_type": "stream",
          "name": "stdout",
          "text": [
            "Ingrese una palabra: Margarita\n",
            "\n",
            "Letras de la palabra sin vocales:\n",
            "M\n",
            "r\n",
            "g\n",
            "r\n",
            "t\n"
          ]
        }
      ]
    },
    {
      "cell_type": "markdown",
      "source": [
        "# **ELSE**\n",
        "\n",
        "---\n",
        "\n"
      ],
      "metadata": {
        "id": "WhlpTnaOwply"
      }
    },
    {
      "cell_type": "markdown",
      "source": [
        "# **Ejercitación DMG la pirámide**\n",
        " Qué tal uno más complejo?\n",
        "\n",
        " Debe crear un programa que determine qué altura pueda alcanzar una pirámide con un número X de bloques construida por un niño y su padre, teniendo en cuenta:\n",
        "\n",
        " • Cada capa inferior contiene un bloque más que la capa superior.\n",
        "\n",
        " • Si los constructores no tienen la cantidad suficiente de bloques y no pueden completar la siguiente capa, terminan su trabajo inmediatamente.\n"
      ],
      "metadata": {
        "id": "c_XI4-Bow9Iw"
      }
    },
    {
      "cell_type": "code",
      "source": [
        "def altura_piramide():\n",
        "    print(\"Calculadora de altura de pirámide\")\n",
        "    print(\"---------------------------------\")\n",
        "\n",
        "    try:\n",
        "        bloques = int(input(\"Ingrese el número total de bloques disponibles: \"))\n",
        "\n",
        "        if bloques < 1:\n",
        "            print(\"Se necesita al menos 1 bloque para construir.\")\n",
        "            return\n",
        "\n",
        "        altura = 0\n",
        "        bloques_necesarios = 0\n",
        "\n",
        "        # Cada capa necesita (altura + 1) bloques\n",
        "        while bloques_necesarios + (altura + 1) <= bloques:\n",
        "            altura += 1\n",
        "            bloques_necesarios += altura\n",
        "        else:\n",
        "            # Este else se ejecuta cuando el while termina naturalmente (sin break)\n",
        "            print(f\"\\nCon {bloques} bloques puedes construir una pirámide de altura {altura}\")\n",
        "            print(f\"Bloques usados: {bloques_necesarios}\")\n",
        "            print(f\"Bloques sobrantes: {bloques - bloques_necesarios}\")\n",
        "            #print(\"(El else del while se ejecutó porque la pirámide se completó correctamente)\")\n",
        "\n",
        "    except ValueError:\n",
        "        print(\"Error: Ingrese un número entero válido.\")\n",
        "\n",
        "altura_piramide()"
      ],
      "metadata": {
        "colab": {
          "base_uri": "https://localhost:8080/"
        },
        "id": "vp4UZpu-xOfE",
        "outputId": "09444ca2-6d82-4e45-d98a-8a59207c7202"
      },
      "execution_count": 17,
      "outputs": [
        {
          "output_type": "stream",
          "name": "stdout",
          "text": [
            "Calculadora de altura de pirámide\n",
            "---------------------------------\n",
            "Ingrese el número total de bloques disponibles: 23\n",
            "\n",
            "Con 23 bloques puedes construir una pirámide de altura 6\n",
            "Bloques usados: 21\n",
            "Bloques sobrantes: 2\n"
          ]
        }
      ]
    },
    {
      "cell_type": "markdown",
      "source": [
        "# **Ejercitación Collatz**\n",
        " En 1937, un matemático alemán llamado Lothar Collatz\n",
        " formuló una hipótesis intrigante (aún no se ha\n",
        " comprobado) que se puede describir de la siguiente\n",
        " manera:\n",
        "\n",
        " • Toma cualquier número entero que no sea negativo y\n",
        " que no sea cero y asígnale el nombre c0; • si es par, evalúa un nuevo c0 como c0 ÷ 2; • de lo contrario, si es impar, evalúe un nuevo c0 como 3 × c0 + 1;\n",
        "\n",
        " • Si c0 ≠ 1, salta al punto 2.\n",
        "\n",
        " La hipótesis dice que, independientemente del valor\n",
        " inicial de c0, el valor siempre tiende a 1.\n",
        "\n",
        " Por supuesto, es una tarea extremadamente compleja\n",
        " usar una computadora para probar la hipótesis de\n",
        " cualquier número natural (incluso puede requerir\n",
        " inteligencia artificial), pero puede usar Python para verificar algunos números individuales. Tal vez incluso encuentres el que refutaría la hipótesis.\n",
        "\n",
        "Escribe un programa que lea un número natural y ejecute los pasos anteriores siempre que c0 sea diferente de 1.\n",
        "\n",
        " También queremos que cuente los pasos necesarios\n",
        " para lograr el objetivo. Tu código también debe mostrar todos los valores intermedios de c0.\n",
        "\n",
        " Sugerencia: la parte más importante del problema es\n",
        " como transformar la idea de Collatz en un bucle while esta es la clave del éxito."
      ],
      "metadata": {
        "id": "-t5AByY4xdo7"
      }
    },
    {
      "cell_type": "code",
      "source": [
        "def collatz_con_else():\n",
        "    print(\"\\nConjetura de Collatz con ELSE\")\n",
        "    print(\"---------------------------\")\n",
        "\n",
        "    try:\n",
        "        c0 = int(input(\"Ingrese un número entero positivo mayor que cero: \"))\n",
        "\n",
        "        if c0 <= 0:\n",
        "            print(\"El número debe ser positivo y mayor que cero.\")\n",
        "            return\n",
        "\n",
        "        pasos = 0\n",
        "        secuencia = []\n",
        "\n",
        "        print(f\"\\nSecuencia para c0 = {c0}:\")\n",
        "\n",
        "        while c0 != 1:\n",
        "            secuencia.append(int(c0))\n",
        "            if c0 % 2 == 0:\n",
        "                c0 = c0 / 2\n",
        "            else:\n",
        "                c0 = 3 * c0 + 1\n",
        "            pasos += 1\n",
        "        else:\n",
        "            # Este bloque se ejecuta cuando el bucle termina naturalmente (cuando c0 == 1)\n",
        "            secuencia.append(1)\n",
        "            print(\" → \".join(map(str, secuencia)))\n",
        "            print(f\"\\n¡La secuencia terminó en 1 después de {pasos} pasos!\")\n",
        "           # print(\"(El bloque ELSE se ejecutó porque el bucle terminó normalmente)\")\n",
        "\n",
        "    except ValueError:\n",
        "        print(\"Error: Por favor ingrese un número entero válido.\")\n",
        "\n",
        "# Ejecutar el programa\n",
        "collatz_con_else()"
      ],
      "metadata": {
        "colab": {
          "base_uri": "https://localhost:8080/"
        },
        "id": "fSGEaFjzyHI9",
        "outputId": "c7956aa5-b1ca-4748-8021-4ebe9dcf0e50"
      },
      "execution_count": 19,
      "outputs": [
        {
          "output_type": "stream",
          "name": "stdout",
          "text": [
            "\n",
            "Conjetura de Collatz con ELSE\n",
            "---------------------------\n",
            "Ingrese un número entero positivo mayor que cero: 15\n",
            "\n",
            "Secuencia para c0 = 15:\n",
            "15 → 46 → 23 → 70 → 35 → 106 → 53 → 160 → 80 → 40 → 20 → 10 → 5 → 16 → 8 → 4 → 2 → 1\n",
            "\n",
            "¡La secuencia terminó en 1 después de 17 pasos!\n"
          ]
        }
      ]
    }
  ]
}