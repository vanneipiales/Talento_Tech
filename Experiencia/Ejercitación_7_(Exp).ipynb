{
  "nbformat": 4,
  "nbformat_minor": 0,
  "metadata": {
    "colab": {
      "provenance": []
    },
    "kernelspec": {
      "name": "python3",
      "display_name": "Python 3"
    },
    "language_info": {
      "name": "python"
    }
  },
  "cells": [
    {
      "cell_type": "markdown",
      "source": [
        "# **CONJUNTOS Y DICCIONARIOS**\n",
        "\n",
        "---\n",
        "\n"
      ],
      "metadata": {
        "id": "oJIQbRO757iv"
      }
    },
    {
      "cell_type": "markdown",
      "source": [
        "# Ejercitación Teoría de conjuntos\n",
        " Qué ocurre con la unión de dos conjuntos?\n",
        "\n",
        " Combina todos los elementos de ambos conjuntos (sin repetir)."
      ],
      "metadata": {
        "id": "n2HOQKJO6GQ_"
      }
    },
    {
      "cell_type": "code",
      "execution_count": 1,
      "metadata": {
        "colab": {
          "base_uri": "https://localhost:8080/"
        },
        "id": "2TsYf4lq56aC",
        "outputId": "20de632e-d747-4d64-8746-ee7281cf629d"
      },
      "outputs": [
        {
          "output_type": "stream",
          "name": "stdout",
          "text": [
            "{1, 2, 3, 4, 5}\n",
            "{1, 2, 3, 4, 5}\n"
          ]
        }
      ],
      "source": [
        "A = {1, 2, 3}\n",
        "B = {3, 4, 5}\n",
        "print(A.union(B))       # {1, 2, 3, 4, 5}\n",
        "print(A | B)            # Alternativa con operador"
      ]
    },
    {
      "cell_type": "markdown",
      "source": [
        " Y con la intersección?\n",
        "\n",
        "Devuelve elementos comunes a ambos conjuntos."
      ],
      "metadata": {
        "id": "hY7iP0LA6GjG"
      }
    },
    {
      "cell_type": "code",
      "source": [
        "A = {1, 2, 3}\n",
        "B = {3, 4, 5}\n",
        "print(A.intersection(B)) # {3}\n",
        "print(A & B)             # Alternativa con operador"
      ],
      "metadata": {
        "colab": {
          "base_uri": "https://localhost:8080/"
        },
        "id": "CwQg2Lrv6hlk",
        "outputId": "09d554d3-607d-43a3-a1aa-e2c71d7d2f99"
      },
      "execution_count": 2,
      "outputs": [
        {
          "output_type": "stream",
          "name": "stdout",
          "text": [
            "{3}\n",
            "{3}\n"
          ]
        }
      ]
    },
    {
      "cell_type": "markdown",
      "source": [
        " Qué tal la diferencia?\n",
        "\n",
        "Elementos que están en el primer conjunto pero no en el segundo."
      ],
      "metadata": {
        "id": "oi_83sCl6PEE"
      }
    },
    {
      "cell_type": "code",
      "source": [
        "A = {1, 2, 3}\n",
        "B = {3, 4, 5}\n",
        "print(A.difference(B))   # {1, 2}\n",
        "print(A - B)             # Alternativa con operador"
      ],
      "metadata": {
        "colab": {
          "base_uri": "https://localhost:8080/"
        },
        "id": "ajOJMAbf6kvk",
        "outputId": "8ca2f255-6e73-443a-f22c-e9c3084551e2"
      },
      "execution_count": 3,
      "outputs": [
        {
          "output_type": "stream",
          "name": "stdout",
          "text": [
            "{1, 2}\n",
            "{1, 2}\n"
          ]
        }
      ]
    },
    {
      "cell_type": "markdown",
      "source": [
        " Diferencia Simétrica\n",
        "\n",
        "Elementos que están en solo uno de los conjuntos (no en ambos)."
      ],
      "metadata": {
        "id": "jM4aFGuT6R4l"
      }
    },
    {
      "cell_type": "code",
      "source": [
        "A = {1, 2, 3}\n",
        "B = {3, 4, 5}\n",
        "print(A.symmetric_difference(B)) # {1, 2, 4, 5}\n",
        "print(A ^ B)                     # Alternativa con operador"
      ],
      "metadata": {
        "colab": {
          "base_uri": "https://localhost:8080/"
        },
        "id": "jnN3_F2v6wWO",
        "outputId": "0e8f4bd0-461c-4d58-a331-7d62ad1ecd22"
      },
      "execution_count": 4,
      "outputs": [
        {
          "output_type": "stream",
          "name": "stdout",
          "text": [
            "{1, 2, 4, 5}\n",
            "{1, 2, 4, 5}\n"
          ]
        }
      ]
    },
    {
      "cell_type": "markdown",
      "source": [
        "# **Ejercitación Conjuntos al cuadrado**\n",
        "\n",
        " Crear un nuevo conjunto a partir del conjunto A = {1, 2, 3, 4, 5} cuyos valores sean el cuadrado de los elementos del conjunto A.\n",
        "\n",
        " Recomendación, utilizar set comprehension.\n",
        " {s for s in [1, 2, 1, 0]"
      ],
      "metadata": {
        "id": "YE7kSJng6yIG"
      }
    },
    {
      "cell_type": "code",
      "source": [
        "A = {1, 2, 3, 4, 5}\n",
        "cuadrados = {x ** 2 for x in A}\n",
        "print(cuadrados)"
      ],
      "metadata": {
        "colab": {
          "base_uri": "https://localhost:8080/"
        },
        "id": "DuqV3GJs69PV",
        "outputId": "a7f1a23e-35f2-4479-d79f-8a0312b58d05"
      },
      "execution_count": 5,
      "outputs": [
        {
          "output_type": "stream",
          "name": "stdout",
          "text": [
            "{1, 4, 9, 16, 25}\n"
          ]
        }
      ]
    },
    {
      "cell_type": "code",
      "source": [
        "B = {-2, -1, 0, 1, 2}\n",
        "cuadrados_B = {x ** 2 for x in B}\n",
        "print(cuadrados_B)  # {0, 1, 4}"
      ],
      "metadata": {
        "colab": {
          "base_uri": "https://localhost:8080/"
        },
        "id": "p7j-HU1O7Bn0",
        "outputId": "c05ab91f-eeed-4b21-e673-df45b0cc4bbf"
      },
      "execution_count": 6,
      "outputs": [
        {
          "output_type": "stream",
          "name": "stdout",
          "text": [
            "{0, 1, 4}\n"
          ]
        }
      ]
    }
  ]
}