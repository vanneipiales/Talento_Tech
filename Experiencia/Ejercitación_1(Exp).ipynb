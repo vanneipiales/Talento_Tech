{
  "nbformat": 4,
  "nbformat_minor": 0,
  "metadata": {
    "colab": {
      "provenance": []
    },
    "kernelspec": {
      "name": "python3",
      "display_name": "Python 3"
    },
    "language_info": {
      "name": "python"
    }
  },
  "cells": [
    {
      "cell_type": "markdown",
      "source": [
        "# **Problema 1:** La bañera\n",
        "  Objetivo: Determinar si después de 2 horas de llenado, puedes ingresar a la bañera sin que el agua se desborde, considerando que ocupas un volumen de 120 litros. Luego, analizar el efecto de un sifón de desagüe a una altura de 70 cm en una bañera de 80 cm de altura.\n",
        "\n",
        "  Solución:\n",
        "  1. Variables iniciales:\n",
        "\n",
        "    - Capacidad máxima de la bañera: 500 litros.\n",
        "\n",
        "    - Tasa de llenado: 200 litros/hora.\n",
        "\n",
        "    - Volumen que ocupas: 120 litros.\n",
        "\n",
        "    - Tiempo de llenado: 2 horas.\n",
        "\n",
        "2. Cálculo del volumen después de 2 horas:\n",
        "\n",
        "  - Volumen llenado = 200 litros/hora * 2 horas = 400 litros.\n",
        "\n",
        "  - Volumen total después de ingresar = 400 litros + 120 litros = 520 litros.\n",
        "\n",
        "3. Comparación con la capacidad máxima:\n",
        "\n",
        "  - 520 litros > 500 litros → El agua se desbordaría.\n",
        "\n",
        "4. Efecto del sifón de desagüe:\n",
        "\n",
        "  - Altura de la bañera: 80 cm.\n",
        "\n",
        "  - Altura del sifón: 70 cm.\n",
        "\n",
        "  - El sifón comenzará a desaguar cuando el agua alcance los 70 cm.\n",
        "\n",
        "  - Volumen correspondiente a 70 cm: Asumiendo una relación lineal (simplificación), 70 cm / 80 cm * 500 litros = 437.5 litros.\n",
        "\n",
        "  - Después de 2 horas, el volumen es 400 litros (< 437.5 litros), por lo que el sifón no ha comenzado a desaguar.\n",
        "\n",
        "  - Al ingresar, el volumen sería 520 litros, pero el sifón limitaría el volumen a 437.5 litros + 120 litros = 557.5 litros (aún por encima de 500 litros). Sin embargo, el sifón desaguaría el exceso por encima de 437.5 litros, pero el cálculo exacto depende de la dinámica del flujo. En términos simples, el agua aún se desbordaría porque el volumen total supera la capacidad máxima incluso con el sifón."
      ],
      "metadata": {
        "id": "KvzkKw_4lQtb"
      }
    },
    {
      "cell_type": "code",
      "source": [
        "# Variables\n",
        "capacidad_maxima = 500  # litros\n",
        "tasa_llenado = 200  # litros/hora\n",
        "volumen_persona = 120  # litros\n",
        "tiempo = 2  # horas\n",
        "\n",
        "# Cálculo del volumen después de 2 horas\n",
        "volumen_llenado = tasa_llenado * tiempo\n",
        "volumen_total = volumen_llenado + volumen_persona\n",
        "\n",
        "# Verificación de desborde\n",
        "if volumen_total > capacidad_maxima:\n",
        "    print(\"El agua se desbordará si ingresas después de 2 horas.\")\n",
        "else:\n",
        "    print(\"Puedes ingresar sin que el agua se desborde.\")\n",
        "\n",
        "# Efecto del sifón\n",
        "altura_banera = 80  # cm\n",
        "altura_sifon = 70  # cm\n",
        "volumen_sifon = (altura_sifon / altura_banera) * capacidad_maxima\n",
        "\n",
        "volumen_llenado_sifon = min(volumen_llenado, volumen_sifon)\n",
        "volumen_total_sifon = volumen_llenado_sifon + volumen_persona\n",
        "\n",
        "if volumen_total_sifon > capacidad_maxima:\n",
        "    print(\"Con el sifón, el agua aún se desbordará al ingresar.\")\n",
        "else:\n",
        "    print(\"Con el sifón, el agua no se desbordará al ingresar.\")"
      ],
      "metadata": {
        "colab": {
          "base_uri": "https://localhost:8080/"
        },
        "id": "9Zotcx0_mPh7",
        "outputId": "3b8a45b5-37d2-4d7f-bff9-744dde82e217"
      },
      "execution_count": 1,
      "outputs": [
        {
          "output_type": "stream",
          "name": "stdout",
          "text": [
            "El agua se desbordará si ingresas después de 2 horas.\n",
            "Con el sifón, el agua aún se desbordará al ingresar.\n"
          ]
        }
      ]
    },
    {
      "cell_type": "markdown",
      "source": [
        "# **# Problema 2:** Rebajas en España\n",
        "  Objetivo: Calcular el precio original de unos pantalones que costaron 34€ con un 15% de descuento, y comparar si es mejor comprarlos en invierno (15% de descuento) o en verano (5% de descuento, precio rebajado 30€).\n",
        "\n",
        "  Solución:\n",
        "  1. Precio original en invierno:\n",
        "\n",
        "      - Precio rebajado = Precio original * (1 - descuento)\n",
        "\n",
        "      - 34€ = Precio original * 0.85\n",
        "\n",
        "      - Precio original = 34€ / 0.85 = 40€\n",
        "\n",
        "2. Comparación con verano:\n",
        "\n",
        "  - Precio rebajado en verano: 30€ con 5% de descuento.\n",
        "\n",
        "  - Precio original = 30€ / 0.95 ≈ 31.58€\n",
        "\n",
        "  - En invierno, el precio original era 40€, pero en verano es ≈31.58€, lo que sugiere que el precio base es menor en verano.\n",
        "\n",
        "  - Para comparar directamente los precios rebajados:\n",
        "\n",
        "    - Invierno: 34€\n",
        "\n",
        "    - Verano: 30€\n",
        "\n",
        "    - 30€ < 34€ → Es mejor comprar en verano (False, porque la pregunta es si es mejor en invierno)."
      ],
      "metadata": {
        "id": "bYNCljKKmp16"
      }
    },
    {
      "cell_type": "code",
      "source": [
        "# Precio original en invierno\n",
        "precio_rebajado_invierno = 34  # €\n",
        "descuento_invierno = 0.15\n",
        "precio_original_invierno = precio_rebajado_invierno / (1 - descuento_invierno)\n",
        "\n",
        "# Comparación con verano\n",
        "precio_rebajado_verano = 30  # €\n",
        "descuento_verano = 0.05\n",
        "precio_original_verano = precio_rebajado_verano / (1 - descuento_verano)\n",
        "\n",
        "# ¿Es mejor comprar en invierno que en verano?\n",
        "mejor_invierno = precio_rebajado_invierno < precio_rebajado_verano\n",
        "print(mejor_invierno)  # False, es mejor en verano"
      ],
      "metadata": {
        "colab": {
          "base_uri": "https://localhost:8080/"
        },
        "id": "6V5Mrh_YnPSV",
        "outputId": "c71caf72-6f72-4985-fbcc-1a108c06b5ba"
      },
      "execution_count": 2,
      "outputs": [
        {
          "output_type": "stream",
          "name": "stdout",
          "text": [
            "False\n"
          ]
        }
      ]
    }
  ]
}