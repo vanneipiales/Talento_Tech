{
  "nbformat": 4,
  "nbformat_minor": 0,
  "metadata": {
    "colab": {
      "provenance": []
    },
    "kernelspec": {
      "name": "python3",
      "display_name": "Python 3"
    },
    "language_info": {
      "name": "python"
    }
  },
  "cells": [
    {
      "cell_type": "markdown",
      "source": [
        "# **CADENAS**\n",
        "\n",
        "---\n",
        "\n"
      ],
      "metadata": {
        "id": "BI_ZO8TI1-Rd"
      }
    },
    {
      "cell_type": "markdown",
      "source": [
        "# **Ejercitación qué hacen los métodos?**"
      ],
      "metadata": {
        "id": "heJdmy152ChW"
      }
    },
    {
      "cell_type": "markdown",
      "source": [
        "1. .capitalize()\n",
        "\n",
        "  Función: Convierte el primer carácter de la cadena a mayúscula y el resto a minúsculas.\n",
        "\n",
        "Ejemplo:"
      ],
      "metadata": {
        "id": "uS0HqLDb2GxV"
      }
    },
    {
      "cell_type": "code",
      "execution_count": 1,
      "metadata": {
        "colab": {
          "base_uri": "https://localhost:8080/"
        },
        "id": "q1DHCWivyyme",
        "outputId": "83c317a5-787c-4d9b-dda9-39a5cf34967a"
      },
      "outputs": [
        {
          "output_type": "stream",
          "name": "stdout",
          "text": [
            "Hola mundo\n"
          ]
        }
      ],
      "source": [
        "s = \"hola MUNDO\"\n",
        "print(s.capitalize())  # \"Hola mundo\""
      ]
    },
    {
      "cell_type": "markdown",
      "source": [
        "2. .upper()\n",
        "  \n",
        "  Función: Convierte todos los caracteres de la cadena a mayúsculas.\n",
        "\n",
        "Ejemplo:"
      ],
      "metadata": {
        "id": "_PhIe1_h2VXV"
      }
    },
    {
      "cell_type": "code",
      "source": [
        "s = \"Python\"\n",
        "print(s.upper())  # \"PYTHON\""
      ],
      "metadata": {
        "colab": {
          "base_uri": "https://localhost:8080/"
        },
        "id": "wE5Fyu4K2bGe",
        "outputId": "a604bf1c-cd65-4f8a-ec5a-213cb20b5cbb"
      },
      "execution_count": 2,
      "outputs": [
        {
          "output_type": "stream",
          "name": "stdout",
          "text": [
            "PYTHON\n"
          ]
        }
      ]
    },
    {
      "cell_type": "markdown",
      "source": [
        "3. .lower()\n",
        "  \n",
        "  Función: Convierte todos los caracteres de la cadena a minúsculas.\n",
        "\n",
        "Ejemplo:"
      ],
      "metadata": {
        "id": "VwOlb0rF2mCL"
      }
    },
    {
      "cell_type": "code",
      "source": [
        "s = \"PROGRAMAR\"\n",
        "print(s.lower())  # \"programar\""
      ],
      "metadata": {
        "colab": {
          "base_uri": "https://localhost:8080/"
        },
        "id": "4RfvGfNz2tDF",
        "outputId": "9f4a4118-fe33-4ec8-ea9a-31089297bd98"
      },
      "execution_count": 3,
      "outputs": [
        {
          "output_type": "stream",
          "name": "stdout",
          "text": [
            "programar\n"
          ]
        }
      ]
    },
    {
      "cell_type": "markdown",
      "source": [
        "4. .title()\n",
        "\n",
        "  Función: Convierte la primera letra de cada palabra a mayúscula y las demás a minúsculas.\n",
        "\n",
        "Ejemplo:"
      ],
      "metadata": {
        "id": "S4JtxZu-2ueB"
      }
    },
    {
      "cell_type": "code",
      "source": [
        "s = \"bienvenidos a python\"\n",
        "print(s.title())  # \"Bienvenidos A Python\""
      ],
      "metadata": {
        "colab": {
          "base_uri": "https://localhost:8080/"
        },
        "id": "1C7GgZmV2xo7",
        "outputId": "ff89a649-24cb-4993-c909-6193503d37c3"
      },
      "execution_count": 4,
      "outputs": [
        {
          "output_type": "stream",
          "name": "stdout",
          "text": [
            "Bienvenidos A Python\n"
          ]
        }
      ]
    },
    {
      "cell_type": "markdown",
      "source": [
        "5. .count(subcadena)\n",
        "  \n",
        "  Función: Cuenta cuántas veces aparece subcadena en la cadena.\n",
        "\n",
        "Ejemplo:"
      ],
      "metadata": {
        "id": "WVa855Gs4XdV"
      }
    },
    {
      "cell_type": "code",
      "source": [
        "s = \"banana\"\n",
        "print(s.count(\"a\"))  # 3"
      ],
      "metadata": {
        "colab": {
          "base_uri": "https://localhost:8080/"
        },
        "id": "2smYIjkc4gGv",
        "outputId": "fa49c6a1-fc82-4876-90fb-9fd3f7e37502"
      },
      "execution_count": 5,
      "outputs": [
        {
          "output_type": "stream",
          "name": "stdout",
          "text": [
            "3\n"
          ]
        }
      ]
    },
    {
      "cell_type": "markdown",
      "source": [
        "6. .find(subcadena)\n",
        "  \n",
        "  Función: Devuelve el índice de la primera aparición de subcadena (o -1 si no se encuentra).\n",
        "\n",
        "Ejemplo:"
      ],
      "metadata": {
        "id": "nsLFujrP4j9W"
      }
    },
    {
      "cell_type": "code",
      "source": [
        "s = \"programación\"\n",
        "print(s.find(\"ma\"))  # 5"
      ],
      "metadata": {
        "colab": {
          "base_uri": "https://localhost:8080/"
        },
        "id": "8p6ChuTw4nNU",
        "outputId": "5498c3da-eb97-4b0c-eab2-a36118020ff7"
      },
      "execution_count": 6,
      "outputs": [
        {
          "output_type": "stream",
          "name": "stdout",
          "text": [
            "6\n"
          ]
        }
      ]
    },
    {
      "cell_type": "markdown",
      "source": [
        "7. .split(separador)\n",
        "  \n",
        "  Función: Divide la cadena en una lista de subcadenas usando separador (por defecto: espacios).\n",
        "\n",
        "Ejemplo:"
      ],
      "metadata": {
        "id": "hE8Wo_Rc4p5I"
      }
    },
    {
      "cell_type": "code",
      "source": [
        "s = \"Python es genial\"\n",
        "print(s.split())  # ['Python', 'es', 'genial']"
      ],
      "metadata": {
        "colab": {
          "base_uri": "https://localhost:8080/"
        },
        "id": "0zGgxVs-4sd8",
        "outputId": "7ee49526-abca-456e-9a54-e7afc6752ec6"
      },
      "execution_count": 7,
      "outputs": [
        {
          "output_type": "stream",
          "name": "stdout",
          "text": [
            "['Python', 'es', 'genial']\n"
          ]
        }
      ]
    },
    {
      "cell_type": "markdown",
      "source": [
        "8. .join(iterable)\n",
        "  \n",
        "  Función: Une los elementos de un iterable (como una lista) en una cadena, usando la cadena original como separador.\n",
        "\n",
        "Ejemplo:\n",
        "\n"
      ],
      "metadata": {
        "id": "BtrRg27E4zKr"
      }
    },
    {
      "cell_type": "code",
      "source": [
        "lista = [\"Python\", \"es\", \"genial\"]\n",
        "print(\" \".join(lista))  # \"Python es genial\""
      ],
      "metadata": {
        "colab": {
          "base_uri": "https://localhost:8080/"
        },
        "id": "8mAST25s44KW",
        "outputId": "4c0b5258-b8df-49ba-89d6-8feb27d020f6"
      },
      "execution_count": 8,
      "outputs": [
        {
          "output_type": "stream",
          "name": "stdout",
          "text": [
            "Python es genial\n"
          ]
        }
      ]
    },
    {
      "cell_type": "markdown",
      "source": [
        "9. .strip()\n",
        "  \n",
        "  Función: Elimina espacios en blanco (o caracteres especificados) al inicio y final de la cadena.\n",
        "\n",
        "Ejemplo"
      ],
      "metadata": {
        "id": "34WWRfSi45hd"
      }
    },
    {
      "cell_type": "code",
      "source": [
        "s = \"   Hola   \"\n",
        "print(s.strip())  # \"Hola\""
      ],
      "metadata": {
        "colab": {
          "base_uri": "https://localhost:8080/"
        },
        "id": "pyUuelBy49a0",
        "outputId": "ff08f26e-2175-4c2c-d096-26a074d2f69b"
      },
      "execution_count": 9,
      "outputs": [
        {
          "output_type": "stream",
          "name": "stdout",
          "text": [
            "Hola\n"
          ]
        }
      ]
    },
    {
      "cell_type": "markdown",
      "source": [
        "10. .replace(viejo, nuevo)\n",
        "  \n",
        "  Función: Reemplaza todas las apariciones de viejo por nuevo.\n",
        "\n",
        "Ejemplo:"
      ],
      "metadata": {
        "id": "QkW4iYcb5Blv"
      }
    },
    {
      "cell_type": "code",
      "source": [
        "s = \"Amo Java\"\n",
        "print(s.replace(\"Java\", \"Python\"))  # \"Amo Python\""
      ],
      "metadata": {
        "colab": {
          "base_uri": "https://localhost:8080/"
        },
        "id": "yNvQAnU95EIE",
        "outputId": "4e0508df-929f-4cff-fe9b-543285b61e63"
      },
      "execution_count": 10,
      "outputs": [
        {
          "output_type": "stream",
          "name": "stdout",
          "text": [
            "Amo Python\n"
          ]
        }
      ]
    },
    {
      "cell_type": "markdown",
      "source": [
        "11. .zfill(longitud)\n",
        "\n",
        "  Función: Rellena la cadena con ceros a la izquierda hasta alcanzar la longitud especificada.\n",
        "\n",
        "Ejemplo:"
      ],
      "metadata": {
        "id": "b4u6rCCx5HNt"
      }
    },
    {
      "cell_type": "code",
      "source": [
        "s = \"42\"\n",
        "print(s.zfill(5))  # \"00042\""
      ],
      "metadata": {
        "id": "FwsmM42u5MiE",
        "outputId": "9b45df1b-b842-48ef-f9f4-97d09115da4c",
        "colab": {
          "base_uri": "https://localhost:8080/"
        }
      },
      "execution_count": 11,
      "outputs": [
        {
          "output_type": "stream",
          "name": "stdout",
          "text": [
            "00042\n"
          ]
        }
      ]
    }
  ]
}