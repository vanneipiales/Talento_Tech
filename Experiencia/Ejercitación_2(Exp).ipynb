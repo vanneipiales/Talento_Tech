{
  "nbformat": 4,
  "nbformat_minor": 0,
  "metadata": {
    "colab": {
      "provenance": []
    },
    "kernelspec": {
      "name": "python3",
      "display_name": "Python 3"
    },
    "language_info": {
      "name": "python"
    }
  },
  "cells": [
    {
      "cell_type": "markdown",
      "source": [
        "# **Ejercitación Par o impar?**\n",
        " Cree un código que permita identificar si un número es par, impar o si es 0, si\n",
        " el número es impar, determine si es divisible entre 3"
      ],
      "metadata": {
        "id": "bEYRmq5Bn9o1"
      }
    },
    {
      "cell_type": "code",
      "source": [
        "# Solicitar al usuario que ingrese un número\n",
        "numero = int(input(\"Ingrese un número: \"))\n",
        "\n",
        "# Verificar si el número es 0, par o impar\n",
        "if numero == 0:\n",
        "    print(\"El número es 0.\")\n",
        "elif numero % 2 == 0:\n",
        "    print(f\"El número {numero} es par.\")\n",
        "else:\n",
        "    print(f\"El número {numero} es impar.\")\n",
        "    # Verificar si el número impar es divisible entre 3\n",
        "    if numero % 3 == 0:\n",
        "        print(f\"Además, {numero} es divisible entre 3.\")\n",
        "    else:\n",
        "        print(f\"Además, {numero} no es divisible entre 3.\")"
      ],
      "metadata": {
        "colab": {
          "base_uri": "https://localhost:8080/"
        },
        "id": "WSirQAfCoCmr",
        "outputId": "a6b46a8e-d219-4378-f821-90911b07a220"
      },
      "execution_count": 4,
      "outputs": [
        {
          "output_type": "stream",
          "name": "stdout",
          "text": [
            "Ingrese un número: 4\n",
            "El número 4 es par.\n",
            "Ingrese un número: 5\n",
            "El número 5 es impar.\n"
          ]
        }
      ]
    }
  ]
}